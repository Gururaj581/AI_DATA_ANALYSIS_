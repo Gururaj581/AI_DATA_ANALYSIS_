{
 "cells": [
  {
   "cell_type": "markdown",
   "metadata": {},
   "source": [
    "# Data Deduplication using Clustering\n",
    "**Objective**: Learn and implement data deduplication techniques.\n",
    "\n",
    "**Task**: DBSCAN for Data Deduplication\n",
    "\n",
    "**Steps**:\n",
    "1. Data Set: Download a dataset containing duplicate entries for event registrations.\n",
    "2. DBSCAN Clustering: Apply the DBSCAN algorithm to cluster similar registrations.\n",
    "3. Identify Duplicates: Detect duplicates based on density of the clusters.\n",
    "4. Refinement: Validate clusters and remove any erroneous duplicates."
   ]
  },
  {
   "cell_type": "code",
   "execution_count": 1,
   "metadata": {},
   "outputs": [
    {
     "name": "stdout",
     "output_type": "stream",
     "text": [
      "Duplicate Records:\n",
      "   RegistrationID                Event           Name                  Email  \\\n",
      "2               3  Data Science Meetup  Charlie White  charlie.w@example.com   \n",
      "4               5          AI Training   Robert Green   bobgreen@example.com   \n",
      "5               6          Data Meetup  Charles White    c.white@example.com   \n",
      "0               1      Tech Conference    Alice Brown    alice.b@example.com   \n",
      "3               4            Tech Conf       Alice B.    a.brown@example.com   \n",
      "1               2          AI Workshop      Bob Green      bob.g@example.com   \n",
      "6               7          AI Workshop      Bob Green    b.green@example.com   \n",
      "\n",
      "   cluster  \n",
      "2       -1  \n",
      "4       -1  \n",
      "5       -1  \n",
      "0        0  \n",
      "3        0  \n",
      "1        1  \n",
      "6        1  \n",
      "\n",
      "Deduplicated DataFrame:\n",
      "   RegistrationID                Event           Name                  Email  \\\n",
      "0               1      Tech Conference    Alice Brown    alice.b@example.com   \n",
      "1               2          AI Workshop      Bob Green      bob.g@example.com   \n",
      "2               3  Data Science Meetup  Charlie White  charlie.w@example.com   \n",
      "3               4            Tech Conf       Alice B.    a.brown@example.com   \n",
      "4               5          AI Training   Robert Green   bobgreen@example.com   \n",
      "5               6          Data Meetup  Charles White    c.white@example.com   \n",
      "6               7          AI Workshop      Bob Green    b.green@example.com   \n",
      "\n",
      "   cluster  \n",
      "0        0  \n",
      "1        1  \n",
      "2       -1  \n",
      "3        0  \n",
      "4       -1  \n",
      "5       -1  \n",
      "6        1  \n"
     ]
    }
   ],
   "source": [
    "# write your code from here\n",
    "\n",
    "import pandas as pd\n",
    "from sklearn.cluster import DBSCAN\n",
    "from sklearn.feature_extraction.text import TfidfVectorizer\n",
    "from sklearn.metrics import pairwise_distances\n",
    "\n",
    "def deduplicate_events(df, features, eps, min_samples):\n",
    "    text_features = df[features].astype(str).agg(' '.join, axis=1)\n",
    "    vectorizer = TfidfVectorizer()\n",
    "    tfidf_matrix = vectorizer.fit_transform(text_features)\n",
    "    distance_matrix = pairwise_distances(tfidf_matrix, metric='cosine')\n",
    "    dbscan = DBSCAN(eps=eps, min_samples=min_samples, metric='precomputed')\n",
    "    clusters = dbscan.fit_predict(distance_matrix)\n",
    "    df['cluster'] = clusters\n",
    "    duplicate_clusters = df['cluster'].value_counts()[df['cluster'].value_counts() > 1].index.tolist()\n",
    "    duplicates = df[df['cluster'].isin(duplicate_clusters)].sort_values(by='cluster')\n",
    "    deduplicated_df = df.drop_duplicates(subset=features, keep='first')\n",
    "    return duplicates, deduplicated_df\n",
    "\n",
    "if __name__ == '__main__':\n",
    "    data = {'RegistrationID': [1, 2, 3, 4, 5, 6, 7],\n",
    "            'Event': ['Tech Conference', 'AI Workshop', 'Data Science Meetup', 'Tech Conf', 'AI Training', 'Data Meetup', 'AI Workshop'],\n",
    "            'Name': ['Alice Brown', 'Bob Green', 'Charlie White', 'Alice B.', 'Robert Green', 'Charles White', 'Bob Green'],\n",
    "            'Email': ['alice.b@example.com', 'bob.g@example.com', 'charlie.w@example.com', 'a.brown@example.com', 'bobgreen@example.com', 'c.white@example.com', 'b.green@example.com']}\n",
    "    event_df = pd.DataFrame(data)\n",
    "    features_to_consider = ['Event', 'Name', 'Email']\n",
    "    epsilon = 0.3\n",
    "    min_pts = 2\n",
    "\n",
    "    duplicate_records, cleaned_df = deduplicate_events(event_df.copy(), features_to_consider, epsilon, min_pts)\n",
    "\n",
    "    print(\"Duplicate Records:\")\n",
    "    print(duplicate_records)\n",
    "    print(\"\\nDeduplicated DataFrame:\")\n",
    "    print(cleaned_df)"
   ]
  }
 ],
 "metadata": {
  "kernelspec": {
   "display_name": "Python 3",
   "language": "python",
   "name": "python3"
  },
  "language_info": {
   "codemirror_mode": {
    "name": "ipython",
    "version": 3
   },
   "file_extension": ".py",
   "mimetype": "text/x-python",
   "name": "python",
   "nbconvert_exporter": "python",
   "pygments_lexer": "ipython3",
   "version": "3.10.12"
  }
 },
 "nbformat": 4,
 "nbformat_minor": 2
}
