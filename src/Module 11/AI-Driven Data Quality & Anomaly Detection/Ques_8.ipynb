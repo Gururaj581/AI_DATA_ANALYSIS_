{
 "cells": [
  {
   "cell_type": "markdown",
   "metadata": {},
   "source": [
    "### Using NLP for Text Data Quality\n",
    "**Objective**: Enhance text data quality using NLP techniques.\n",
    "\n",
    "**Task**: Removing Stopwords\n",
    "\n",
    "**Steps**:\n",
    "1. Data Set: Use a dataset of text product descriptions.\n",
    "2. Stopword Removal: Utilize an NLP library (e.g., NLTK) to remove stopwords from the\n",
    "descriptions.\n",
    "3. Assess Impact: Examine the effectiveness by analyzing word frequency before and after\n",
    "removal."
   ]
  },
  {
   "cell_type": "code",
   "execution_count": null,
   "metadata": {},
   "outputs": [],
   "source": [
    "# write your code from here\n",
    "\n",
    "import pandas as pd\n",
    "from nltk.corpus import stopwords\n",
    "from nltk.tokenize import word_tokenize\n",
    "from collections import Counter\n",
    "\n",
    "import nltk\n",
    "nltk.download('stopwords', quiet=True)\n",
    "nltk.download('punkt', quiet=True)\n",
    "\n",
    "def remove_stopwords_from_descriptions(df, text_column):\n",
    "    stop_words = set(stopwords.words('english'))\n",
    "    descriptions = df[text_column].astype(str)\n",
    "    filtered_descriptions = []\n",
    "    for desc in descriptions:\n",
    "        word_tokens = word_tokenize(desc.lower())\n",
    "        filtered_words = [w for w in word_tokens if not w in stop_words]\n",
    "        filtered_descriptions.append(\" \".join(filtered_words))\n",
    "    df['cleaned_description'] = filtered_descriptions\n",
    "    return df\n",
    "\n",
    "def analyze_word_frequency(texts):\n",
    "    all_words = []\n",
    "    for text in texts:\n",
    "        word_tokens = word_tokenize(text.lower())\n",
    "        all_words.extend(word_tokens)\n",
    "    return Counter(all_words)\n",
    "\n",
    "if __name__ == '__main__':\n",
    "    data = {'ProductID': [1, 2, 3],\n",
    "            'Description': [\"The best product in the market with great features.\",\n",
    "                            \"A high-quality item, very useful and effective.\",\n",
    "                            \"This is an amazing product; you should buy it now!\"]}\n",
    "    product_df = pd.DataFrame(data)\n",
    "    text_column = 'Description'\n",
    "\n",
    "    print(\"Original Word Frequencies:\")\n",
    "    original_frequencies = analyze_word_frequency(product_df[text_column].astype(str).tolist())\n",
    "    print(original_frequencies.most_common(10))\n",
    "\n",
    "    df_cleaned = remove_stopwords_from_descriptions(product_df.copy(), text_column)\n",
    "\n",
    "    print(\"\\nCleaned Word Frequencies:\")\n",
    "    cleaned_frequencies = analyze_word_frequency(df_cleaned['cleaned_description'].tolist())\n",
    "    print(cleaned_frequencies.most_common(10))\n",
    "\n",
    "    print(\"\\nDataFrame with Cleaned Descriptions:\")\n",
    "    print(df_cleaned)"
   ]
  }
 ],
 "metadata": {
  "kernelspec": {
   "display_name": "Python 3",
   "language": "python",
   "name": "python3"
  },
  "language_info": {
   "codemirror_mode": {
    "name": "ipython",
    "version": 3
   },
   "file_extension": ".py",
   "mimetype": "text/x-python",
   "name": "python",
   "nbconvert_exporter": "python",
   "pygments_lexer": "ipython3",
   "version": "3.10.12"
  }
 },
 "nbformat": 4,
 "nbformat_minor": 2
}
