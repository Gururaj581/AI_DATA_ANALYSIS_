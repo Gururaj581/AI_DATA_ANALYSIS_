{
 "cells": [
  {
   "cell_type": "markdown",
   "metadata": {},
   "source": [
    "### Using NLP for Text Data Quality\n",
    "**Objective**: Enhance text data quality using NLP techniques.\n",
    "\n",
    "**Task**: Spelling Corrections\n",
    "\n",
    "**Steps**:\n",
    "1. Data Set: Import a dataset containing text reviews with spelling errors.\n",
    "2. Apply Corrections: Use a spell-checker from an NLP library to correct spelling mistakes.\n",
    "3. Verify Improvements: Review the corrections to ensure data quality improvement."
   ]
  },
  {
   "cell_type": "code",
   "execution_count": 1,
   "metadata": {},
   "outputs": [
    {
     "name": "stdout",
     "output_type": "stream",
     "text": [
      "                                           review  \\\n",
      "0      Ths product is amazng and wroth evry peny.   \n",
      "1  Not relly good, disapointed with the quallity.   \n",
      "2                 Superb servce and fast delivry!   \n",
      "3              Will deffnitely recomend to othrs.   \n",
      "4              Terrble experince, won't buy agin.   \n",
      "\n",
      "                                  corrected_review  \n",
      "0       The product is amazing and wrote very pen.  \n",
      "1  Not really good, disappointed with the quality.  \n",
      "2                Superb service and fast delivery!  \n",
      "3             Will definitely recommend to others.  \n",
      "4            Terrible experience, won't buy again.  \n"
     ]
    }
   ],
   "source": [
    "\n",
    "import pandas as pd\n",
    "from textblob import TextBlob\n",
    "data = pd.DataFrame({\n",
    "    'review': [\n",
    "        \"Ths product is amazng and wroth evry peny.\",\n",
    "        \"Not relly good, disapointed with the quallity.\",\n",
    "        \"Superb servce and fast delivry!\",\n",
    "        \"Will deffnitely recomend to othrs.\",\n",
    "        \"Terrble experince, won't buy agin.\"\n",
    "    ]\n",
    "})\n",
    "def correct_spelling(text):\n",
    "    return str(TextBlob(text).correct())\n",
    "data['corrected_review'] = data['review'].apply(correct_spelling)\n",
    "print(data[['review', 'corrected_review']])"
   ]
  }
 ],
 "metadata": {
  "kernelspec": {
   "display_name": "Python 3",
   "language": "python",
   "name": "python3"
  },
  "language_info": {
   "codemirror_mode": {
    "name": "ipython",
    "version": 3
   },
   "file_extension": ".py",
   "mimetype": "text/x-python",
   "name": "python",
   "nbconvert_exporter": "python",
   "pygments_lexer": "ipython3",
   "version": "3.10.12"
  }
 },
 "nbformat": 4,
 "nbformat_minor": 2
}
