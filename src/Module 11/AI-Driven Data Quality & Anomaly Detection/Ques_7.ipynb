{
 "cells": [
  {
   "cell_type": "markdown",
   "metadata": {},
   "source": [
    "### Using NLP for Text Data Quality\n",
    "**Objective**: Enhance text data quality using NLP techniques.\n",
    "\n",
    "**Task**: Handling Noisy Text Data\n",
    "\n",
    "**Steps**:\n",
    "1. Data Set: Obtain a dataset with customer reviews containing noise (e.g., random characters).\n",
    "2. Clean Data: Use regex patterns to clean the noise from text data.\n",
    "3. Evaluate: Compare the text before and after cleaning for noise."
   ]
  },
  {
   "cell_type": "code",
   "execution_count": null,
   "metadata": {},
   "outputs": [],
   "source": [
    "import pandas as pd\n",
    "import re\n",
    "data = pd.DataFrame({\n",
    "    'review': [\n",
    "        \"Gr8 product!!!@@@ will buy again!!!\",\n",
    "        \"Terrible.....not worth it###\",\n",
    "        \"L0ve it!! $$$ Will recommend.\",\n",
    "        \"Worst!!!!!@# service everrrrr!!!\",\n",
    "        \"Excelllent****product!!!!\"\n",
    "    ]\n",
    "})\n",
    "\n",
    "def clean_text(text):\n",
    "    text = re.sub(r'[^a-zA-Z0-9\\s]', '', text)\n",
    "    text = re.sub(r'\\s+', ' ', text)\n",
    "    return text.strip()\n",
    "data['cleaned_review'] = data['review'].apply(clean_text)\n",
    "print(data[['review', 'cleaned_review']])"
   ]
  }
 ],
 "metadata": {
  "kernelspec": {
   "display_name": "Python 3",
   "language": "python",
   "name": "python3"
  },
  "language_info": {
   "codemirror_mode": {
    "name": "ipython",
    "version": 3
   },
   "file_extension": ".py",
   "mimetype": "text/x-python",
   "name": "python",
   "nbconvert_exporter": "python",
   "pygments_lexer": "ipython3",
   "version": "3.10.12"
  }
 },
 "nbformat": 4,
 "nbformat_minor": 2
}
