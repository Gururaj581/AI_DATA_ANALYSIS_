{
 "cells": [
  {
   "cell_type": "markdown",
   "metadata": {},
   "source": [
    "# Data Deduplication using Clustering\n",
    "**Objective**: Learn and implement data deduplication techniques.\n",
    "\n",
    "**Task**: Hierarchical Clustering for Deduplication\n",
    "\n",
    "**Steps**:\n",
    "1. Data Set: Obtain a dataset containing duplicate employee information.\n",
    "2. Perform Clustering: Use hierarchical agglomerative clustering to cluster the employee\n",
    "records.\n",
    "3. Evaluate Duplicates: Determine duplicates by analyzing the clusters formed.\n",
    "4. Clean Data: Remove duplicate employee records found during clustering."
   ]
  },
  {
   "cell_type": "code",
   "execution_count": 1,
   "metadata": {},
   "outputs": [
    {
     "ename": "TypeError",
     "evalue": "AgglomerativeClustering.__init__() got an unexpected keyword argument 'affinity'",
     "output_type": "error",
     "traceback": [
      "\u001b[0;31m---------------------------------------------------------------------------\u001b[0m",
      "\u001b[0;31mTypeError\u001b[0m                                 Traceback (most recent call last)",
      "Cell \u001b[0;32mIn[1], line 28\u001b[0m\n\u001b[1;32m     25\u001b[0m features_to_consider \u001b[38;5;241m=\u001b[39m [\u001b[38;5;124m'\u001b[39m\u001b[38;5;124mName\u001b[39m\u001b[38;5;124m'\u001b[39m, \u001b[38;5;124m'\u001b[39m\u001b[38;5;124mEmail\u001b[39m\u001b[38;5;124m'\u001b[39m, \u001b[38;5;124m'\u001b[39m\u001b[38;5;124mPhone\u001b[39m\u001b[38;5;124m'\u001b[39m]\n\u001b[1;32m     26\u001b[0m threshold_distance \u001b[38;5;241m=\u001b[39m \u001b[38;5;241m0.2\u001b[39m\n\u001b[0;32m---> 28\u001b[0m duplicate_records, cleaned_df \u001b[38;5;241m=\u001b[39m \u001b[43mdeduplicate_employees\u001b[49m\u001b[43m(\u001b[49m\u001b[43memployee_df\u001b[49m\u001b[38;5;241;43m.\u001b[39;49m\u001b[43mcopy\u001b[49m\u001b[43m(\u001b[49m\u001b[43m)\u001b[49m\u001b[43m,\u001b[49m\u001b[43m \u001b[49m\u001b[43mfeatures_to_consider\u001b[49m\u001b[43m,\u001b[49m\u001b[43m \u001b[49m\u001b[43mthreshold_distance\u001b[49m\u001b[43m)\u001b[49m\n\u001b[1;32m     30\u001b[0m \u001b[38;5;28mprint\u001b[39m(\u001b[38;5;124m\"\u001b[39m\u001b[38;5;124mDuplicate Records:\u001b[39m\u001b[38;5;124m\"\u001b[39m)\n\u001b[1;32m     31\u001b[0m \u001b[38;5;28mprint\u001b[39m(duplicate_records)\n",
      "Cell \u001b[0;32mIn[1], line 11\u001b[0m, in \u001b[0;36mdeduplicate_employees\u001b[0;34m(df, features, threshold)\u001b[0m\n\u001b[1;32m      9\u001b[0m tfidf_matrix \u001b[38;5;241m=\u001b[39m vectorizer\u001b[38;5;241m.\u001b[39mfit_transform(text_features)\n\u001b[1;32m     10\u001b[0m distance_matrix \u001b[38;5;241m=\u001b[39m pairwise_distances(tfidf_matrix, metric\u001b[38;5;241m=\u001b[39m\u001b[38;5;124m'\u001b[39m\u001b[38;5;124mcosine\u001b[39m\u001b[38;5;124m'\u001b[39m)\n\u001b[0;32m---> 11\u001b[0m clustering \u001b[38;5;241m=\u001b[39m \u001b[43mAgglomerativeClustering\u001b[49m\u001b[43m(\u001b[49m\u001b[43mn_clusters\u001b[49m\u001b[38;5;241;43m=\u001b[39;49m\u001b[38;5;28;43;01mNone\u001b[39;49;00m\u001b[43m,\u001b[49m\u001b[43m \u001b[49m\u001b[43maffinity\u001b[49m\u001b[38;5;241;43m=\u001b[39;49m\u001b[38;5;124;43m'\u001b[39;49m\u001b[38;5;124;43mprecomputed\u001b[39;49m\u001b[38;5;124;43m'\u001b[39;49m\u001b[43m,\u001b[49m\u001b[43m \u001b[49m\u001b[43mlinkage\u001b[49m\u001b[38;5;241;43m=\u001b[39;49m\u001b[38;5;124;43m'\u001b[39;49m\u001b[38;5;124;43maverage\u001b[39;49m\u001b[38;5;124;43m'\u001b[39;49m\u001b[43m,\u001b[49m\u001b[43m \u001b[49m\u001b[43mdistance_threshold\u001b[49m\u001b[38;5;241;43m=\u001b[39;49m\u001b[43mthreshold\u001b[49m\u001b[43m)\u001b[49m\n\u001b[1;32m     12\u001b[0m clusters \u001b[38;5;241m=\u001b[39m clustering\u001b[38;5;241m.\u001b[39mfit_predict(distance_matrix)\n\u001b[1;32m     13\u001b[0m df[\u001b[38;5;124m'\u001b[39m\u001b[38;5;124mcluster\u001b[39m\u001b[38;5;124m'\u001b[39m] \u001b[38;5;241m=\u001b[39m clusters\n",
      "\u001b[0;31mTypeError\u001b[0m: AgglomerativeClustering.__init__() got an unexpected keyword argument 'affinity'"
     ]
    }
   ],
   "source": [
    "import pandas as pd\n",
    "from sklearn.cluster import AgglomerativeClustering\n",
    "from sklearn.feature_extraction.text import TfidfVectorizer\n",
    "from sklearn.metrics import pairwise_distances\n",
    "\n",
    "def deduplicate_employees(df, features, threshold):\n",
    "    text_features = df[features].astype(str).agg(' '.join, axis=1)\n",
    "    vectorizer = TfidfVectorizer()\n",
    "    tfidf_matrix = vectorizer.fit_transform(text_features)\n",
    "    distance_matrix = pairwise_distances(tfidf_matrix, metric='cosine')\n",
    "    clustering = AgglomerativeClustering(n_clusters=None, affinity='precomputed', linkage='average', distance_threshold=threshold)\n",
    "    clusters = clustering.fit_predict(distance_matrix)\n",
    "    df['cluster'] = clusters\n",
    "    duplicate_clusters = df['cluster'].value_counts()[df['cluster'].value_counts() > 1].index.tolist()\n",
    "    duplicates = df[df['cluster'].isin(duplicate_clusters)].sort_values(by='cluster')\n",
    "    deduplicated_df = df.drop_duplicates(subset=features, keep='first')\n",
    "    return duplicates, deduplicated_df\n",
    "\n",
    "if __name__ == '__main__':\n",
    "    data = {'EmployeeID': [1, 2, 3, 4, 5, 6, 7],\n",
    "            'Name': ['John Smith', 'Jane Doe', 'Peter Jones', 'John Smith', 'Jane D', 'Peter J.', 'Jane Doe'],\n",
    "            'Email': ['john.123@example.com', 'jane.doe@example.com', 'peter.j@example.com', 'john.smith@example.com', 'jane.d@example.com', 'peter.jones@example.com', 'jane.doe@example.com'],\n",
    "            'Phone': ['123-456-7890', '987-654-3210', '111-222-3333', '1234567890', '9876543210', '1112223333', '987-654-3210']}\n",
    "    employee_df = pd.DataFrame(data)\n",
    "    features_to_consider = ['Name', 'Email', 'Phone']\n",
    "    threshold_distance = 0.2\n",
    "\n",
    "    duplicate_records, cleaned_df = deduplicate_employees(employee_df.copy(), features_to_consider, threshold_distance)\n",
    "\n",
    "    print(\"Duplicate Records:\")\n",
    "    print(duplicate_records)\n",
    "    print(\"\\nDeduplicated DataFrame:\")\n",
    "    print(cleaned_df)"
   ]
  }
 ],
 "metadata": {
  "kernelspec": {
   "display_name": "Python 3",
   "language": "python",
   "name": "python3"
  },
  "language_info": {
   "codemirror_mode": {
    "name": "ipython",
    "version": 3
   },
   "file_extension": ".py",
   "mimetype": "text/x-python",
   "name": "python",
   "nbconvert_exporter": "python",
   "pygments_lexer": "ipython3",
   "version": "3.10.12"
  }
 },
 "nbformat": 4,
 "nbformat_minor": 2
}
