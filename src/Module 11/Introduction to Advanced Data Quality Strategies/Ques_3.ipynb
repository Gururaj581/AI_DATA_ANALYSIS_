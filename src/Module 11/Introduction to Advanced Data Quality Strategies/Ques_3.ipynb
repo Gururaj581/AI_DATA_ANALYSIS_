{
 "cells": [
  {
   "cell_type": "markdown",
   "metadata": {},
   "source": [
    "### Machine Learning for Data Quality Prediction\n",
    "**Description**: Use a machine learning model to predict data quality issues.\n",
    "\n",
    "**Steps**:\n",
    "1. Create a mock dataset with features and label (quality issue/label: 0: good, 1: issue).\n",
    "2. Train a machine learning model.\n",
    "3. Evaluate the model performance."
   ]
  },
  {
   "cell_type": "code",
   "execution_count": null,
   "metadata": {},
   "outputs": [],
   "source": [
    "\n",
    "import pandas as pd\n",
    "import numpy as np\n",
    "from sklearn.model_selection import train_test_split\n",
    "from sklearn.ensemble import RandomForestClassifier\n",
    "from sklearn.metrics import accuracy_score, classification_report\n",
    "data = {\n",
    "    'missing_values': [1, 0, 0, 1, 1, 0, 0, 1, 0, 1],\n",
    "    'duplicate_values': [0, 0, 1, 1, 0, 1, 0, 1, 0, 0],\n",
    "    'inconsistent_format': [0, 1, 0, 1, 0, 0, 0, 1, 0, 1],\n",
    "    'outliers': [1, 0, 1, 0, 1, 0, 0, 0, 1, 1],\n",
    "    'valid_entries': [0, 1, 1, 0, 0, 1, 1, 0, 1, 1],\n",
    "    'quality_issue': [1, 0, 1, 1, 1, 0, 0, 1, 0, 1] \n",
    "}\n",
    "df = pd.DataFrame(data)\n",
    "X = df.drop('quality_issue', axis=1) \n",
    "y = df['quality_issue'] \n",
    "X_train, X_test, y_train, y_test = train_test_split(X, y, test_size=0.2, random_state=42)\n",
    "model = RandomForestClassifier(n_estimators=100, random_state=42)\n",
    "model.fit(X_train, y_train)\n",
    "y_pred = model.predict(X_test)\n",
    "accuracy = accuracy_score(y_test, y_pred)\n",
    "print(f'Accuracy: {accuracy:.2f}')\n",
    "print('Classification Report:')\n",
    "print(classification_report(y_test, y_pred))\n"
   ]
  }
 ],
 "metadata": {
  "kernelspec": {
   "display_name": "Python 3",
   "language": "python",
   "name": "python3"
  },
  "language_info": {
   "codemirror_mode": {
    "name": "ipython",
    "version": 3
   },
   "file_extension": ".py",
   "mimetype": "text/x-python",
   "name": "python",
   "nbconvert_exporter": "python",
   "pygments_lexer": "ipython3",
   "version": "3.10.12"
  }
 },
 "nbformat": 4,
 "nbformat_minor": 2
}
