{
 "cells": [
  {
   "cell_type": "code",
   "execution_count": null,
   "metadata": {},
   "outputs": [],
   "source": [
    "# Seaborn Plot - Heatmap\n",
    "# Objective: Create a heatmap to visualize a correlation matrix with Seaborn, using\n",
    "# advanced styling."


import pandas as pd
import numpy as np
import seaborn as sns
import matplotlib.pyplot as plt


np.random.seed(42)
data = pd.DataFrame({
    'Feature1': np.random.rand(100),
    'Feature2': np.random.rand(100),
    'Feature3': np.random.rand(100),
    'Feature4': np.random.rand(100),
    'Feature5': np.random.rand(100)
})


corr_matrix = data.corr()


plt.figure(figsize=(10, 8))


sns.heatmap(
    corr_matrix,
    annot=True,           
    fmt=".2f",            
    cmap='viridis',       
    linewidths=0.5,       
    linecolor='black',    
    cbar_kws={"shrink": .8}, 
    square=True           
)


plt.title('Correlation Matrix Heatmap', fontsize=16, pad=20)


plt.show()

    
        
   ]
  }
 ],
 "metadata": {
  "language_info": {
   "name": "python"
  }
 },
 "nbformat": 4,
 "nbformat_minor": 2
}
