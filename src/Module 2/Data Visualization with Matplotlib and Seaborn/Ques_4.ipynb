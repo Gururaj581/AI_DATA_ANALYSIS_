{
 "cells": [
  {
   "cell_type": "code",
   "execution_count": null,
   "metadata": {},
   "outputs": [],
   "source": [
    "# Basic Seaborn Bar Plot\n",
    "# Description: Using Seaborn, plot the same bar plot from Question 1 to compare the sales data.\n",
    "\n",
    "import seaborn as sns\n",
    "import matplotlib.pyplot as plt\n",
    "import pandas as pd\n",
    "\n",
    "# Data\n",
    "products = ['A', 'B', 'C', 'D', 'E']\n",
    "sales = [23, 75, 57, 90, 65]  # in thousands\n",
    "\n",
    "# Create a DataFrame\n",
    "data = pd.DataFrame({'Product': products, 'Sales': sales})\n",
    "\n",
    "# Create bar plot using Seaborn\n",
    "plt.figure(figsize=(8, 5))\n",
    "sns.barplot(x='Product', y='Sales', data=data, palette='Blues_d')\n",
    "\n",
    "# Add labels and title\n",
    "plt.xlabel('Products')\n",
    "plt.ylabel('Sales (in thousands)')\n",
    "plt.title('Product Sales Comparison')\n",
    "\n",
    "# Show plot\n",
    "plt.tight_layout()\n",
    "plt.show()\n"
   ]
  }
 ],
 "metadata": {
  "kernelspec": {
   "display_name": "Python 3",
   "language": "python",
   "name": "python3"
  },
  "language_info": {
   "codemirror_mode": {
    "name": "ipython",
    "version": 3
   },
   "file_extension": ".py",
   "mimetype": "text/x-python",
   "name": "python",
   "nbconvert_exporter": "python",
   "pygments_lexer": "ipython3",
   "version": "3.10.12"
  }
 },
 "nbformat": 4,
 "nbformat_minor": 2
}
