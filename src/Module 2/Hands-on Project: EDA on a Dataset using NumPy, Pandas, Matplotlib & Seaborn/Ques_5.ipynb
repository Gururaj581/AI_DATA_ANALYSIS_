{
 "cells": [
  {
   "cell_type": "code",
   "execution_count": null,
   "metadata": {},
   "outputs": [],
   "source": [
    "# Title: Data Cleaning using Pandas\n",
    "# Description: Check for missing values and handle them by imputing the median\n",
    "import pandas as pd\n",
    "df = pd.DataFrame({'A': [1, 2, None, 4, 5], 'B': [None, 2, 3, 4, 5]})\n",
    "df = df.apply(lambda x: x.fillna(x.median()), axis=0)\n",
    "print(df)\n"
   ]
  }
 ],
 "metadata": {
  "kernelspec": {
   "display_name": "Python 3",
   "language": "python",
   "name": "python3"
  },
  "language_info": {
   "codemirror_mode": {
    "name": "ipython",
    "version": 3
   },
   "file_extension": ".py",
   "mimetype": "text/x-python",
   "name": "python",
   "nbconvert_exporter": "python",
   "pygments_lexer": "ipython3",
   "version": "3.10.12"
  }
 },
 "nbformat": 4,
 "nbformat_minor": 2
}
