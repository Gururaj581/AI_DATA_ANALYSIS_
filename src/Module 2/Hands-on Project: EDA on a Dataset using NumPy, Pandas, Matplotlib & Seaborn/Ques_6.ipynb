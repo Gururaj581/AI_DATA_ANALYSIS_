{
 "cells": [
  {
   "cell_type": "code",
   "execution_count": null,
   "metadata": {},
   "outputs": [],
   "source": [
    "# Title: Correlation Analysis\n",
    "# Description: Find the correlation between different features and visualize using a heatmap.\n",
    "import pandas as pd\n",
    "import seaborn as sns\n",
    "import matplotlib.pyplot as plt\n",
    "data = {\n",
    "    'Sales': [200, 220, 250, 270, 300, 310, 280, 260, 275, 290],\n",
    "    'Advertising': [20, 25, 30, 35, 40, 45, 38, 33, 36, 39],\n",
    "    'Discount': [5, 7, 6, 8, 10, 9, 7, 6, 8, 9],\n",
    "    'Customer_Count': [100, 110, 120, 130, 150, 160, 140, 135, 138, 145]\n",
    "}\n",
    "df = pd.DataFrame(data)\n",
    "correlation_matrix = df.corr()\n",
    "sns.heatmap(correlation_matrix, annot=True, cmap='coolwarm')\n",
    "plt.title(\"Feature Correlation Heatmap\")\n",
    "plt.show()\n",
    "\n"
   ]
  }
 ],
 "metadata": {
  "kernelspec": {
   "display_name": "Python 3",
   "language": "python",
   "name": "python3"
  },
  "language_info": {
   "codemirror_mode": {
    "name": "ipython",
    "version": 3
   },
   "file_extension": ".py",
   "mimetype": "text/x-python",
   "name": "python",
   "nbconvert_exporter": "python",
   "pygments_lexer": "ipython3",
   "version": "3.10.12"
  }
 },
 "nbformat": 4,
 "nbformat_minor": 2
}
