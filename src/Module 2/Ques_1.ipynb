{
 "cells": [
  {
   "cell_type": "code",
   "execution_count": 1,
   "metadata": {},
   "outputs": [
    {
     "name": "stdout",
     "output_type": "stream",
     "text": [
      "Current Working Directory:  /workspaces/AI_DATA_ANALYSIS_/src/Module 2\n",
      "An error occurred: Error tokenizing data. C error: Expected 1 fields in line 9, saw 5\n",
      "\n"
     ]
    }
   ],
   "source": [
    "# Getting Started with Pandas\n",
    "# Objective: Introduce students to using Pandas for data analysis by loading data into Pandas\n",
    "# DataFrames.\n",
    "\n",
    "# Question 1: Importing Pandas and Loading a CSV File\n",
    "# 2. Import the pandas library.\n",
    "# 3. Load a CSV file into a DataFrame.\n",
    "# Step 2: Import the pandas library\n",
    "\n",
    "import pandas as pd\n",
    "import os\n",
    "\n",
    "# Check and print the current working directory to ensure you're looking in the right place\n",
    "print(\"Current Working Directory: \", os.getcwd())\n",
    "\n",
    "# Try to load the CSV file\n",
    "try:\n",
    "    df = pd.read_csv('data.csv')  # Replace with your file path if needed\n",
    "    print(\"CSV file loaded successfully!\")\n",
    "    print(\"\\nFirst 5 rows of the DataFrame:\")\n",
    "    print(df.head())\n",
    "except FileNotFoundError:\n",
    "    print(\"Error: File not found. Please check:\")\n",
    "    print(\"1. The file exists in your current directory\")\n",
    "    print(\"2. The filename is spelled correctly\")\n",
    "    print(\"3. Or provide the full path to the file\")\n",
    "except Exception as e:\n",
    "    print(f\"An error occurred: {str(e)}\")\n"
   ]
  },
  {
   "cell_type": "code",
   "execution_count": 2,
   "metadata": {},
   "outputs": [
    {
     "name": "stdout",
     "output_type": "stream",
     "text": [
      "Column Data Types:\n",
      "Name      object\n",
      "Age        int64\n",
      "Salary     int64\n",
      "dtype: object\n",
      "\n",
      "Selected Column - Age:\n",
      "0    25\n",
      "1    30\n",
      "2    35\n",
      "3    40\n",
      "Name: Age, dtype: int64\n",
      "\n",
      "Sliced Rows (first 2):\n",
      "    Name  Age  Salary\n",
      "0  Alice   25   50000\n",
      "1    Bob   30   60000\n"
     ]
    }
   ],
   "source": [
    "#corrected\n",
    "import pandas as pd\n",
    "data = {\n",
    "    'Name': ['Alice', 'Bob', 'Charlie', 'David'],\n",
    "    'Age': [25, 30, 35, 40],\n",
    "    'Salary': [50000, 60000, 70000, 80000]\n",
    "}\n",
    "df = pd.DataFrame(data)\n",
    "print(\"Column Data Types:\")\n",
    "print(df.dtypes)\n",
    "\n",
    "print(\"\\nSelected Column - Age:\")\n",
    "print(df['Age'])\n",
    "\n",
    "print(\"\\nSliced Rows (first 2):\")\n",
    "print(df[:2])\n",
    "\n",
    "\n",
    "\n"
   ]
  },
  {
   "cell_type": "code",
   "execution_count": 3,
   "metadata": {},
   "outputs": [
    {
     "name": "stdout",
     "output_type": "stream",
     "text": [
      "After filling missing values:\n",
      "      Name   Age  Salary\n",
      "0    Alice  25.0   50000\n",
      "1      Bob   0.0   60000\n",
      "2  Charlie  35.0   70000\n",
      "3      Bob   0.0   60000\n",
      "\n",
      "After renaming columns:\n",
      "  Employee Name   Age  Monthly Salary\n",
      "0         Alice  25.0           50000\n",
      "1           Bob   NaN           60000\n",
      "2       Charlie  35.0           70000\n",
      "3           Bob   NaN           60000\n",
      "\n",
      "After dropping duplicates:\n",
      "      Name   Age  Salary\n",
      "0    Alice  25.0   50000\n",
      "1      Bob   NaN   60000\n",
      "2  Charlie  35.0   70000\n"
     ]
    }
   ],
   "source": [
    "# corrected Data Cleaning & Manipulation\n",
    "# Objective: Practice cleaning data and manipulating DataFrames.\n",
    "\n",
    "# Question 1: Handling Missing Values\n",
    "# 9. Use the fillna() method to fill missing values with a specific value.\n",
    "\n",
    "\n",
    "# QUestion 2: Renaming Columns\n",
    "# 10. Change the names of specific columns using rename().\n",
    "\n",
    "# Question 3: Dropping Duplicates\n",
    "# 11. Remove duplicate rows from the DataFrame.\n",
    "\n",
    "import pandas as pd\n",
    "data = {\n",
    "    'Name': ['Alice', 'Bob', 'Charlie', 'Bob'],\n",
    "    'Age': [25, None, 35, None],\n",
    "    'Salary': [50000, 60000, 70000, 60000]\n",
    "}\n",
    "df = pd.DataFrame(data)\n",
    "\n",
    "# Question 1: Handling Missing Values\n",
    "# 9. Use the fillna() method to fill missing values with a specific value.\n",
    "df_filled = df.fillna({'Age': 0})  # Fills missing 'Age' values with 0\n",
    "print(\"After filling missing values:\")\n",
    "print(df_filled)\n",
    "\n",
    "# Question 2: Renaming Columns\n",
    "# 10. Change the names of specific columns using rename().\n",
    "df_renamed = df.rename(columns={'Name': 'Employee Name', 'Salary': 'Monthly Salary'})\n",
    "print(\"\\nAfter renaming columns:\")\n",
    "print(df_renamed)\n",
    "\n",
    "# Question 3: Dropping Duplicates\n",
    "# 11. Remove duplicate rows from the DataFrame.\n",
    "df_no_duplicates = df.drop_duplicates()\n",
    "print(\"\\nAfter dropping duplicates:\")\n",
    "print(df_no_duplicates)\n",
    "\n",
    "\n",
    "\n",
    "\n"
   ]
  },
  {
   "cell_type": "code",
   "execution_count": 4,
   "metadata": {},
   "outputs": [
    {
     "name": "stdout",
     "output_type": "stream",
     "text": [
      "Mean Salary and Bonus by Department:\n",
      "             Salary   Bonus\n",
      "Department                 \n",
      "HR          61000.0  4400.0\n",
      "IT          70000.0  5200.0\n",
      "Sales       52500.0  4750.0\n",
      "\n",
      "Data exported to 'employees_export.csv'.\n",
      "\n",
      "Aggregated statistics by Department (mean, max, min):\n",
      "             Salary                 Bonus            \n",
      "               mean    max    min    mean   max   min\n",
      "Department                                           \n",
      "HR          61000.0  62000  60000  4400.0  4800  4000\n",
      "IT          70000.0  70000  70000  5200.0  5200  5200\n",
      "Sales       52500.0  55000  50000  4750.0  5000  4500\n"
     ]
    }
   ],
   "source": [
    "#  corrected Data Aggregation & Exporting\n",
    "# Objective: Aggregate data and export the results.\n",
    "\n",
    "# Question 1: Grouping and Aggregating Data\n",
    "# 12. Group data by a specific column and calculate the mean for each group.\n",
    "\n",
    "# Question 2: Exporting Data to CSV\n",
    "# 13. Export the DataFrame to a new CSV file.\n",
    "\n",
    "# Question 3: Aggregating with Multiple Functions\n",
    "# 14. Apply several aggregate functions to the grouped data.\n",
    "\n",
    "import pandas as pd\n",
    "data = {\n",
    "    'Department': ['Sales', 'HR', 'Sales', 'HR', 'IT'],\n",
    "    'Employee': ['Alice', 'Bob', 'Charlie', 'David', 'Eva'],\n",
    "    'Salary': [50000, 60000, 55000, 62000, 70000],\n",
    "    'Bonus': [5000, 4000, 4500, 4800, 5200]\n",
    "}\n",
    "df = pd.DataFrame(data)\n",
    "\n",
    "# Question 1: Grouping and Aggregating Data\n",
    "# 12. Group data by a specific column and calculate the mean for each group.\n",
    "grouped_mean = df.groupby('Department')[['Salary', 'Bonus']].mean()\n",
    "print(\"Mean Salary and Bonus by Department:\")\n",
    "print(grouped_mean)\n",
    "df.to_csv('employees_export.csv', index=False)\n",
    "print(\"\\nData exported to 'employees_export.csv'.\")\n",
    "grouped_multiple = df.groupby('Department')[['Salary', 'Bonus']].agg(['mean', 'max', 'min'])\n",
    "print(\"\\nAggregated statistics by Department (mean, max, min):\")\n",
    "print(grouped_multiple)\n",
    "\n",
    "\n",
    "\n"
   ]
  }
 ],
 "metadata": {
  "kernelspec": {
   "display_name": "Python 3",
   "language": "python",
   "name": "python3"
  },
  "language_info": {
   "codemirror_mode": {
    "name": "ipython",
    "version": 3
   },
   "file_extension": ".py",
   "mimetype": "text/x-python",
   "name": "python",
   "nbconvert_exporter": "python",
   "pygments_lexer": "ipython3",
   "version": "3.10.12"
  }
 },
 "nbformat": 4,
 "nbformat_minor": 2
}
