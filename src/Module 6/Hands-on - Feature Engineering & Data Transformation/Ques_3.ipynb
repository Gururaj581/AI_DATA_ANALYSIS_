{
 "cells": [
  {
   "cell_type": "code",
   "execution_count": null,
   "metadata": {},
   "outputs": [],
   "source": [
    "\n",
    "import pandas as pd\n",
    "from sklearn.preprocessing import StandardScaler, LabelEncoder\n",
    "sample_data = \"\"\"\n",
    "Mileage,Horsepower,Fuel_Type\n",
    "45000,180,Gasoline\n",
    "32000,220,Diesel\n",
    "78000,150,Hybrid\n",
    "55000,190,Gasoline\n",
    "23000,250,Diesel\n",
    "\"\"\"\n",
    "car_data = pd.read_csv(pd.io.common.StringIO(sample_data))\n",
    "scaler = StandardScaler()\n",
    "numerical_cols = ['Mileage', 'Horsepower']\n",
    "car_data[numerical_cols] = scaler.fit_transform(car_data[numerical_cols])\n",
    "encoder = LabelEncoder()\n",
    "car_data['Fuel_Type'] = encoder.fit_transform(car_data['Fuel_Type'])\n",
    "print(\"Transformed Data:\")\n",
    "print(car_data)\n",
    "print(\"\\nFuel Type Mapping:\")\n",
    "for i, label in enumerate(encoder.classes_):\n",
    "    print(f\"{label}: {i}\")\n",
    "print(\"\\nScaled Statistics:\")\n",
    "print(car_data[numerical_cols].describe())\n",
    "\n",
    "    \n",
    "    \n",
    "    "
   ]
  }
 ],
 "metadata": {
  "kernelspec": {
   "display_name": "Python 3",
   "language": "python",
   "name": "python3"
  },
  "language_info": {
   "codemirror_mode": {
    "name": "ipython",
    "version": 3
   },
   "file_extension": ".py",
   "mimetype": "text/x-python",
   "name": "python",
   "nbconvert_exporter": "python",
   "pygments_lexer": "ipython3",
   "version": "3.10.12"
  }
 },
 "nbformat": 4,
 "nbformat_minor": 2
}
