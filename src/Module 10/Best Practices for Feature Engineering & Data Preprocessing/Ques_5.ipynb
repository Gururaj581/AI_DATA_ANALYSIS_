{
 "cells": [
  {
   "cell_type": "markdown",
   "metadata": {},
   "source": [
    "### Scaling & Feature Selection in a Pipeline\n",
    "**Description**: Create a pipeline that includes feature scaling, variance threshold selection, and a classification model."
   ]
  },
  {
   "cell_type": "code",
   "execution_count": null,
   "metadata": {},
   "outputs": [
    {
     "name": "stdout",
     "output_type": "stream",
     "text": [
      "              precision    recall  f1-score   support\n",
      "\n",
      "           0       1.00      0.50      0.67         2\n",
      "           1       0.50      1.00      0.67         1\n",
      "\n",
      "    accuracy                           0.67         3\n",
      "   macro avg       0.75      0.75      0.67         3\n",
      "weighted avg       0.83      0.67      0.67         3\n",
      "\n",
      "0.6666666666666666\n",
      "Index(['feature1', 'feature2', 'feature3', 'feature4'], dtype='object')\n"
     ]
    }
   ],
   "source": [
    "\n",
    "import pandas as pd\n",
    "from sklearn.model_selection import train_test_split\n",
    "from sklearn.preprocessing import StandardScaler\n",
    "from sklearn.feature_selection import VarianceThreshold\n",
    "from sklearn.linear_model import LogisticRegression\n",
    "from sklearn.pipeline import Pipeline\n",
    "from sklearn.metrics import classification_report,accuracy_score\n",
    "data={'feature1':[1,2,3,4,5,6,7,8,9,10],'feature2':[0.1,0.2,0.15,0.25,0.1,0.2,0.15,0.25,0.1,0.2],'feature3':[10,20,30,40,50,60,70,80,90,100],'feature4':[0,0,0,0,0,1,1,1,1,1],'feature5':[1,1,1,1,1,1,1,1,1,1],'target':[0,0,0,1,0,1,1,1,0,1]}\n",
    "df=pd.DataFrame(data)\n",
    "X=df.drop('target',axis=1)\n",
    "y=df['target']\n",
    "X_train,X_test,y_train,y_test=train_test_split(X,y,test_size=0.3,random_state=42)\n",
    "pipeline=Pipeline([('scaler',StandardScaler()),('variance_threshold',VarianceThreshold(threshold=0.1)),('classifier',LogisticRegression(random_state=42))])\n",
    "pipeline.fit(X_train,y_train)\n",
    "y_pred=pipeline.predict(X_test)\n",
    "print(classification_report(y_test,y_pred))\n",
    "print(accuracy_score(y_test,y_pred))\n",
    "variance_threshold_step=pipeline.named_steps['variance_threshold']\n",
    "selected_features_mask=variance_threshold_step.get_support()\n",
    "selected_features=X_train.columns[selected_features_mask]\n",
    "print(selected_features)"
   ]
  }
 ],
 "metadata": {
  "kernelspec": {
   "display_name": "Python 3",
   "language": "python",
   "name": "python3"
  },
  "language_info": {
   "codemirror_mode": {
    "name": "ipython",
    "version": 3
   },
   "file_extension": ".py",
   "mimetype": "text/x-python",
   "name": "python",
   "nbconvert_exporter": "python",
   "pygments_lexer": "ipython3",
   "version": "3.10.12"
  }
 },
 "nbformat": 4,
 "nbformat_minor": 2
}
