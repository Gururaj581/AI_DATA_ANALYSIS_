{
 "cells": [
  {
   "cell_type": "markdown",
   "metadata": {},
   "source": [
    "### Task 1: Handling Missing Values - Simple Imputation\n",
    "**Description**: Given a dataset with missing values, impute the missing values using the mean for numerical features and the mode for categorical features."
   ]
  },
  {
   "cell_type": "code",
   "execution_count": 13,
   "metadata": {},
   "outputs": [
    {
     "name": "stdout",
     "output_type": "stream",
     "text": [
      "Original DataFrame:\n",
      "   numerical_1  numerical_2 categorical_1 categorical_2\n",
      "0          1.0         10.0             A             X\n",
      "1          2.0         20.0             B             Y\n",
      "2          NaN         30.0           NaN             Z\n",
      "3          4.0          NaN             A             X\n",
      "4          5.0         50.0             C           NaN\n",
      "\n",
      "DataFrame with Imputed Values:\n",
      "   numerical_1  numerical_2 categorical_1 categorical_2\n",
      "0          1.0         10.0             A             X\n",
      "1          2.0         20.0             B             Y\n",
      "2          3.0         30.0             A             Z\n",
      "3          4.0         27.5             A             X\n",
      "4          5.0         50.0             C             X\n"
     ]
    },
    {
     "name": "stderr",
     "output_type": "stream",
     "text": [
      "/tmp/ipykernel_132235/3599534930.py:20: DeprecationWarning: is_categorical_dtype is deprecated and will be removed in a future version. Use isinstance(dtype, pd.CategoricalDtype) instead\n",
      "  elif pd.api.types.is_categorical_dtype(df[col]) or pd.api.types.is_object_dtype(df[col]):\n"
     ]
    }
   ],
   "source": [
    "# write your code from here\n",
    "import pandas as pd\n",
    "import numpy as np\n",
    "\n",
    "def handle_missing_values_simple_imputation(df):\n",
    "    \"\"\"\n",
    "    Imputes missing values in a DataFrame.\n",
    "\n",
    "    Args:\n",
    "        df (pd.DataFrame): The input DataFrame with missing values.\n",
    "\n",
    "    Returns:\n",
    "        pd.DataFrame: A new DataFrame with missing values imputed.\n",
    "                      Numerical features are imputed with the mean,\n",
    "                      and categorical/object features are imputed with the mode.\n",
    "    \"\"\"\n",
    "    for col in df.columns:\n",
    "        if pd.api.types.is_numeric_dtype(df[col]):\n",
    "            df[col] = df[col].fillna(df[col].mean())\n",
    "        elif pd.api.types.is_categorical_dtype(df[col]) or pd.api.types.is_object_dtype(df[col]):\n",
    "            df[col] = df[col].fillna(df[col].mode()[0])\n",
    "    return df\n",
    "\n",
    "if __name__ == '__main__':\n",
    "    data = {'numerical_1': [1, 2, np.nan, 4, 5],\n",
    "            'numerical_2': [10, 20, 30, np.nan, 50],\n",
    "            'categorical_1': ['A', 'B', np.nan, 'A', 'C'],\n",
    "            'categorical_2': ['X', 'Y', 'Z', 'X', np.nan]}\n",
    "    df = pd.DataFrame(data)\n",
    "\n",
    "    print(\"Original DataFrame:\")\n",
    "    print(df)\n",
    "\n",
    "    df_imputed = handle_missing_values_simple_imputation(df.copy())\n",
    "    print(\"\\nDataFrame with Imputed Values:\")\n",
    "    print(df_imputed)\n"
   ]
  },
  {
   "cell_type": "markdown",
   "metadata": {},
   "source": [
    "### Task 2: Feature Scaling - Min-Max Normalization\n",
    "**Description**: Normalize a numerical feature using Min-Max scaling to a range [0, 1]."
   ]
  },
  {
   "cell_type": "code",
   "execution_count": 14,
   "metadata": {},
   "outputs": [
    {
     "name": "stdout",
     "output_type": "stream",
     "text": [
      "Original Series:\n",
      "0    10\n",
      "1    20\n",
      "2    30\n",
      "3    40\n",
      "4    50\n",
      "5   -10\n",
      "Name: numerical_feature, dtype: int64\n",
      "\n",
      "Normalized Series (Min-Max Scaling):\n",
      "0    0.333333\n",
      "1    0.500000\n",
      "2    0.666667\n",
      "3    0.833333\n",
      "4    1.000000\n",
      "5    0.000000\n",
      "dtype: float64\n"
     ]
    }
   ],
   "source": [
    "# write your code from here\n",
    "import pandas as pd\n",
    "from sklearn.preprocessing import MinMaxScaler\n",
    "\n",
    "def feature_scaling_min_max_normalization(series):\n",
    "    \"\"\"\n",
    "    Normalizes a numerical pandas Series using Min-Max scaling to the range [0, 1].\n",
    "\n",
    "    Args:\n",
    "        series (pd.Series): The input numerical pandas Series to be normalized.\n",
    "\n",
    "    Returns:\n",
    "        pd.Series: A new pandas Series with values scaled to the range [0, 1].\n",
    "    \"\"\"\n",
    "    scaler = MinMaxScaler()\n",
    "    return pd.Series(scaler.fit_transform(series.values.reshape(-1, 1)).flatten(), index=series.index)\n",
    "\n",
    "if __name__ == '__main__':\n",
    "    data = {'numerical_feature': [10, 20, 30, 40, 50, -10]}\n",
    "    df = pd.DataFrame(data)\n",
    "    numerical_series = df['numerical_feature']\n",
    "\n",
    "    print(\"Original Series:\")\n",
    "    print(numerical_series)\n",
    "\n",
    "    normalized_series = feature_scaling_min_max_normalization(numerical_series)\n",
    "    print(\"\\nNormalized Series (Min-Max Scaling):\")\n",
    "    print(normalized_series)\n"
   ]
  },
  {
   "cell_type": "markdown",
   "metadata": {},
   "source": [
    "### Task 3: Handling Missing Values - Drop Missing Values\n",
    "**Description**: Remove rows with missing values from a dataset."
   ]
  },
  {
   "cell_type": "code",
   "execution_count": 15,
   "metadata": {},
   "outputs": [
    {
     "name": "stdout",
     "output_type": "stream",
     "text": [
      "Original DataFrame:\n",
      "   col1  col2 col3\n",
      "0   1.0  10.0    A\n",
      "1   2.0   NaN    B\n",
      "2   NaN  30.0    C\n",
      "3   4.0  40.0  NaN\n",
      "4   5.0  50.0    E\n",
      "\n",
      "DataFrame after dropping rows with missing values:\n",
      "   col1  col2 col3\n",
      "0   1.0  10.0    A\n",
      "4   5.0  50.0    E\n"
     ]
    }
   ],
   "source": [
    "# write your code from here\n",
    "import pandas as pd\n",
    "import numpy as np\n",
    "\n",
    "def handle_missing_values_drop(df):\n",
    "    \"\"\"\n",
    "    Removes rows with any missing values from a DataFrame.\n",
    "\n",
    "    Args:\n",
    "        df (pd.DataFrame): The input DataFrame.\n",
    "\n",
    "    Returns:\n",
    "        pd.DataFrame: A new DataFrame with rows containing missing values removed.\n",
    "    \"\"\"\n",
    "    return df.dropna()\n",
    "\n",
    "if __name__ == '__main__':\n",
    "    data = {'col1': [1, 2, np.nan, 4, 5],\n",
    "            'col2': [10, np.nan, 30, 40, 50],\n",
    "            'col3': ['A', 'B', 'C', np.nan, 'E']}\n",
    "    df = pd.DataFrame(data)\n",
    "\n",
    "    print(\"Original DataFrame:\")\n",
    "    print(df)\n",
    "\n",
    "    df_dropped = handle_missing_values_drop(df.copy())\n",
    "    print(\"\\nDataFrame after dropping rows with missing values:\")\n",
    "    print(df_dropped)\n"
   ]
  },
  {
   "cell_type": "markdown",
   "metadata": {},
   "source": [
    "### Task 4: Feature Scaling - Standardization\n",
    "**Description**: Standardize a numerical feature to have zero mean and unit variance."
   ]
  },
  {
   "cell_type": "code",
   "execution_count": 16,
   "metadata": {},
   "outputs": [
    {
     "name": "stdout",
     "output_type": "stream",
     "text": [
      "Original Series:\n",
      "0    10\n",
      "1    20\n",
      "2    30\n",
      "3    40\n",
      "4    50\n",
      "5   -10\n",
      "Name: numerical_feature, dtype: int64\n",
      "\n",
      "Standardized Series (Zero Mean, Unit Variance):\n",
      "0   -0.676123\n",
      "1   -0.169031\n",
      "2    0.338062\n",
      "3    0.845154\n",
      "4    1.352247\n",
      "5   -1.690309\n",
      "dtype: float64\n"
     ]
    }
   ],
   "source": [
    "# write your code from here\n",
    "import pandas as pd\n",
    "from sklearn.preprocessing import StandardScaler\n",
    "\n",
    "def feature_scaling_standardization(series):\n",
    "    \"\"\"\n",
    "    Standardizes a numerical pandas Series to have zero mean and unit variance.\n",
    "\n",
    "    Args:\n",
    "        series (pd.Series): The input numerical pandas Series to be standardized.\n",
    "\n",
    "    Returns:\n",
    "        pd.Series: A new pandas Series with standardized values.\n",
    "    \"\"\"\n",
    "    scaler = StandardScaler()\n",
    "    return pd.Series(scaler.fit_transform(series.values.reshape(-1, 1)).flatten(), index=series.index)\n",
    "\n",
    "if __name__ == '__main__':\n",
    "    data = {'numerical_feature': [10, 20, 30, 40, 50, -10]}\n",
    "    df = pd.DataFrame(data)\n",
    "    numerical_series = df['numerical_feature']\n",
    "\n",
    "    print(\"Original Series:\")\n",
    "    print(numerical_series)\n",
    "\n",
    "    standardized_series = feature_scaling_standardization(numerical_series)\n",
    "    print(\"\\nStandardized Series (Zero Mean, Unit Variance):\")\n",
    "    print(standardized_series)\n"
   ]
  }
 ],
 "metadata": {
  "kernelspec": {
   "display_name": "Python 3",
   "language": "python",
   "name": "python3"
  },
  "language_info": {
   "codemirror_mode": {
    "name": "ipython",
    "version": 3
   },
   "file_extension": ".py",
   "mimetype": "text/x-python",
   "name": "python",
   "nbconvert_exporter": "python",
   "pygments_lexer": "ipython3",
   "version": "3.10.12"
  }
 },
 "nbformat": 4,
 "nbformat_minor": 2
}
