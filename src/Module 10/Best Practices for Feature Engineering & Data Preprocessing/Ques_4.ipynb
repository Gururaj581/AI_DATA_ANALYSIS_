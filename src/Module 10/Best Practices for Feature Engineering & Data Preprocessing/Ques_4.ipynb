{
 "cells": [
  {
   "cell_type": "markdown",
   "metadata": {},
   "source": [
    "### Feature Selection - Using Mutual Information\n",
    "**Description**: Use mutual information for feature selection to identify important features."
   ]
  },
  {
   "cell_type": "code",
   "execution_count": null,
   "metadata": {},
   "outputs": [],
   "source": [
    "\n",
    "import pandas as pd\n",
    "import numpy as np\n",
    "from sklearn.feature_selection import SelectKBest\n",
    "from sklearn.feature_selection import mutual_info_classif\n",
    "def feature_selection_mutual_information(X, y, k=2):\n",
    "    \"\"\"\n",
    "    Selects the top k features from a DataFrame using mutual information.\n",
    "    Args:\n",
    "        X (pd.DataFrame): The input DataFrame containing the features.\n",
    "        y (pd.Series): The target variable.\n",
    "        k (int, optional): The number of top features to select. Defaults to 2.\n",
    "    Returns:\n",
    "        pd.DataFrame: A new DataFrame containing the selected features.\n",
    "    \"\"\"\n",
    "    selector = SelectKBest(score_func=mutual_info_classif, k=k)\n",
    "    X_selected = selector.fit_transform(X, y)\n",
    "    selected_feature_names = X.columns[selector.get_support()]\n",
    "    return X[selected_feature_names]\n",
    "if __name__ == '__main__':\n",
    "    data = {'feature1': [1, 2, 3, 4, 5, 6, 7],\n",
    "            'feature2': [1, 2, 1, 2, 1, 2, 1],\n",
    "            'feature3': [10, 20, 30, 40, 50, 60, 70],\n",
    "            'feature4': [0, 0, 0, 0, 1, 1, 1],\n",
    "            'target': [0, 1, 0, 1, 0, 1, 0]}\n",
    "    df = pd.DataFrame(data)\n",
    "\n",
    "    X = df.drop('target', axis=1)\n",
    "    y = df['target']\n",
    "\n",
    "    print(\"Original DataFrame (Features):\")\n",
    "    print(X)\n",
    "    print(\"\\nTarget Variable:\")\n",
    "    print(y)\n",
    "\n",
    "    X_selected = feature_selection_mutual_information(X.copy(), y, k=2)\n",
    "    print(\"\\nDataFrame with selected features (k=2):\")\n",
    "    print(X_selected)\n",
    "\n",
    "    X_selected_all = feature_selection_mutual_information(X.copy(), y, k='all')\n",
    "    print(\"\\nDataFrame with selected features (k='all'):\")\n",
    "    print(X_selected_all)\n"
   ]
  }
 ],
 "metadata": {
  "kernelspec": {
   "display_name": "Python 3",
   "language": "python",
   "name": "python3"
  },
  "language_info": {
   "codemirror_mode": {
    "name": "ipython",
    "version": 3
   },
   "file_extension": ".py",
   "mimetype": "text/x-python",
   "name": "python",
   "nbconvert_exporter": "python",
   "pygments_lexer": "ipython3",
   "version": "3.10.12"
  }
 },
 "nbformat": 4,
 "nbformat_minor": 2
}
