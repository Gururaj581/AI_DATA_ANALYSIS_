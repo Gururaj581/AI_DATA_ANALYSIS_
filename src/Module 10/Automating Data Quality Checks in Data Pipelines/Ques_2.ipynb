{
 "cells": [
  {
   "cell_type": "markdown",
   "metadata": {},
   "source": [
    "## Automated Data Quality Monitoring\n",
    "**Objective**: Use Great Expectations to perform data profiling and write validation rules.\n",
    "\n",
    "1. Data Profiling with Great Expectations\n",
    "### Profile a CSV dataset containing customer information to inspect distribution patterns of 'Age' and 'Income' columns.\n",
    "- Load the dataset using Great Expectations and create a data context.\n",
    "- Generate a data asset to inspect the summary statistics.\n",
    "- View the generated expectation suite to analyze data distributions."
   ]
  },
  {
   "cell_type": "code",
   "execution_count": null,
   "metadata": {},
   "outputs": [],
   "source": [
    "import great_expectations as gx\n",
    "import pandas as pd\n",
    "csv_file_path = 'customer_data.csv'\n",
    "df = pd.read_csv(csv_file_path)\n",
    "context = gx.get_context()\n",
    "datasource_name = \"my_pandas_datasource\"\n",
    "pandas_datasource = context.sources.add_pandas(name=datasource_name)\n",
    "data_asset_name = \"customer_data_asset\"\n",
    "data_asset = pandas_datasource.add_dataframe_asset(name=data_asset_name, dataframe=df)\n",
    "batch_request = data_asset.build_batch_request()\n",
    "expectation_suite_name = \"customer_profile_suite\"\n",
    "try:\n",
    "    suite = context.get_expectation_suite(expectation_suite_name)\n",
    "    print(f\"Found existing Expectation Suite '{expectation_suite_name}'.\")\n",
    "except gx.exceptions.ExpectationSuiteNotFoundError:\n",
    "    suite = context.create_expectation_suite(expectation_suite_name)\n",
    "    print(f\"Created a new Expectation Suite '{expectation_suite_name}'.\")\n",
    "profiler = gx.profile.PandasDatasetProfiler()\n",
    "suite = profiler.profile(df, expectation_suite=suite)\n",
    "context.save_expectation_suite(suite)\n",
    "print(f\"\\nSuccessfully profiled the data and saved the Expectation Suite '{expectation_suite_name}'.\")\n",
    "print(\"\\nYou can now view the generated Expectation Suite to analyze the data distributions.\")\n",
    "print(f\"The Expectation Suite can be found here: {context.get_expectation_suite_path(expectation_suite_name)}\")"
   ]
  },
  {
   "cell_type": "markdown",
   "metadata": {},
   "source": [
    "2. Writing Validation Rules for Data Ingestion\n",
    "### Write validation rules for a CSV file to ensure the 'Date' column follows a specific date format.\n",
    "- Utilize expect_column_values_to_match_regex to enforce date format validation.\n",
    "- Run the validation and interpret the output."
   ]
  },
  {
   "cell_type": "code",
   "execution_count": null,
   "metadata": {},
   "outputs": [],
   "source": [
    "# write your code from here\n",
    "\n"
   ]
  }
 ],
 "metadata": {
  "kernelspec": {
   "display_name": "Python 3",
   "language": "python",
   "name": "python3"
  },
  "language_info": {
   "codemirror_mode": {
    "name": "ipython",
    "version": 3
   },
   "file_extension": ".py",
   "mimetype": "text/x-python",
   "name": "python",
   "nbconvert_exporter": "python",
   "pygments_lexer": "ipython3",
   "version": "3.10.12"
  }
 },
 "nbformat": 4,
 "nbformat_minor": 2
}
