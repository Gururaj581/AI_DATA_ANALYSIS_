{
 "cells": [
  {
   "cell_type": "markdown",
   "metadata": {},
   "source": [
    "## Automated Data Quality Monitoring\n",
    "**Objective**: Use Great Expectations to perform data profiling and write validation rules.\n",
    "\n",
    "1. Data Profiling with Great Expectations\n",
    "\n",
    "### Profile a JSON dataset with product sales data to check for null values in the 'ProductID' and 'Price' fields.\n",
    "- Create an expectation suite and connect it to the data context.\n",
    "- Use the `expect_column_values_to_not_be_null` expectation to profile these fields.\n",
    "- Review the summary to identify any unexpected null values."
   ]
  },
  {
   "cell_type": "code",
   "execution_count": null,
   "metadata": {},
   "outputs": [],
   "source": [
    "# write your code from here\n",
    "[\n",
    "  {\"ProductID\": \"PROD123\", \"ProductName\": \"Laptop\", \"Price\": 1200.00},\n",
    "  {\"ProductID\": \"PROD456\", \"ProductName\": \"Mouse\", \"Price\": 25.00},\n",
    "  {\"ProductID\": null, \"ProductName\": \"Keyboard\", \"Price\": 75.00},\n",
    "  {\"ProductID\": \"PROD789\", \"ProductName\": \"Monitor\", \"Price\": null},\n",
    "  {\"ProductID\": \"PROD012\", \"ProductName\": \"Webcam\", \"Price\": 50.00}\n",
    "]\n",
    "\n",
    "import great_expectations as gx\n",
    "import pandas as pd\n",
    "\n",
    "# Assuming your JSON file is named 'product_sales.json' and is in the same directory\n",
    "json_file_path = 'product_sales.json'\n",
    "\n",
    "# Load the JSON dataset using pandas\n",
    "df = pd.read_json(json_file_path)\n",
    "\n",
    "# Get the DataContext\n",
    "context = gx.get_context()\n",
    "\n",
    "# Create a datasource for your pandas DataFrame\n",
    "datasource_name = \"my_json_datasource\"\n",
    "pandas_datasource = context.sources.add_pandas(name=datasource_name)\n",
    "\n",
    "# Create a data asset\n",
    "data_asset_name = \"product_sales_asset\"\n",
    "data_asset = pandas_datasource.add_dataframe_asset(name=data_asset_name, dataframe=df)\n",
    "\n",
    "# Build a batch request\n",
    "batch_request = data_asset.build_batch_request()\n",
    "\n",
    "# Create an expectation suite\n",
    "expectation_suite_name = \"product_null_check_suite\"\n",
    "try:\n",
    "    suite = context.get_expectation_suite(expectation_suite_name)\n",
    "    print(f\"Found existing Expectation Suite '{expectation_suite_name}'.\")\n",
    "except gx.exceptions.ExpectationSuiteNotFoundError:\n",
    "    suite = context.create_expectation_suite(expectation_suite_name)\n",
    "    print(f\"Created a new Expectation Suite '{expectation_suite_name}'.\")\n",
    "\n",
    "# Add the expectation to check for null values in 'ProductID'\n",
    "suite.add_expectation(\n",
    "    gx.expectations.expect_column_values_to_not_be_null(column=\"ProductID\")\n",
    ")\n",
    "\n",
    "# Add the expectation to check for null values in 'Price'\n",
    "suite.add_expectation(\n",
    "    gx.expectations.expect_column_values_to_not_be_null(column=\"Price\")\n",
    ")\n",
    "\n",
    "# Save the expectation suite\n",
    "context.save_expectation_suite(suite)\n",
    "\n",
    "print(f\"\\nSuccessfully created the Expectation Suite '{expectation_suite_name}' with null checks.\")\n",
    "print(\"\\nYou can now run a validation against this suite to see if there are any null values.\")\n",
    "print(f\"The Expectation Suite can be found here: {context.get_expectation_suite_path(expectation_suite_name)}\")\n",
    "\n",
    "# To actually validate the data against the suite:\n",
    "validator = context.get_validator(\n",
    "    batch_request=batch_request,\n",
    "    expectation_suite_name=expectation_suite_name,\n",
    ")\n",
    "\n",
    "validation_result = validator.validate()\n",
    "\n",
    "print(\"\\nValidation Results:\")\n",
    "print(validation_result.statistics)\n",
    "\n"
   ]
  },
  {
   "cell_type": "markdown",
   "metadata": {},
   "source": [
    "2. Writing Validation Rules for Data Ingestion\n",
    "\n",
    "### Define validation rules for an API data source to confirm that 'Status' field contains only predefined statuses ('Active', 'Inactive').\n",
    "\n",
    "- Apply `expect_column_values_to_be_in_set` to check field values during data ingestion.\n",
    "- Execute the validation and review any mismatches."
   ]
  },
  {
   "cell_type": "code",
   "execution_count": null,
   "metadata": {},
   "outputs": [],
   "source": []
  }
 ],
 "metadata": {
  "kernelspec": {
   "display_name": "Python 3",
   "language": "python",
   "name": "python3"
  },
  "language_info": {
   "codemirror_mode": {
    "name": "ipython",
    "version": 3
   },
   "file_extension": ".py",
   "mimetype": "text/x-python",
   "name": "python",
   "nbconvert_exporter": "python",
   "pygments_lexer": "ipython3",
   "version": "3.10.12"
  }
 },
 "nbformat": 4,
 "nbformat_minor": 2
}
