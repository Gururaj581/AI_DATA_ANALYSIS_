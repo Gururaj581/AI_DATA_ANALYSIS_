{
 "cells": [
  {
   "cell_type": "code",
   "execution_count": null,
   "metadata": {},
   "outputs": [],
   "source": [
    "# Question: Predictive Imputation Using Machine Learning\n",
    "# Description: Use a simple predictive model to impute missing values in a column.\n",
    "import pandas as pd\n",
    "import numpy as np\n",
    "from sklearn.tree import DecisionTreeRegressor\n",
    "from sklearn.model_selection import train_test_split\n",
    "df = pd.DataFrame({\n",
    "    \"income\": [50000, 60000, 55000, 58000, 62000, 49000, 57000],\n",
    "    \"education\": [16, 18, 14, 15, 17, 13, 16],\n",
    "    \"age\": [25, 30, np.nan, 35, 40, np.nan, 28]\n",
    "})\n",
    "df_missing = df[df[\"age\"].isnull()]\n",
    "df_complete = df[df[\"age\"].notnull()]\n",
    "features = [\"income\", \"education\"]\n",
    "X_train = df_complete[features]\n",
    "y_train = df_complete[\"age\"]\n",
    "model = DecisionTreeRegressor()\n",
    "model.fit(X_train, y_train)\n",
    "X_missing = df_missing[features]\n",
    "df.loc[df[\"age\"].isnull(), \"age\"] = model.predict(X_missing)\n",
    "print(df)\n"
   ]
  }
 ],
 "metadata": {
  "kernelspec": {
   "display_name": "Python 3",
   "language": "python",
   "name": "python3"
  },
  "language_info": {
   "codemirror_mode": {
    "name": "ipython",
    "version": 3
   },
   "file_extension": ".py",
   "mimetype": "text/x-python",
   "name": "python",
   "nbconvert_exporter": "python",
   "pygments_lexer": "ipython3",
   "version": "3.10.12"
  }
 },
 "nbformat": 4,
 "nbformat_minor": 2
}
