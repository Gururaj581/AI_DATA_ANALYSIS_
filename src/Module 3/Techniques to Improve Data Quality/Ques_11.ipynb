{
 "cells": [
  {
   "cell_type": "code",
   "execution_count": null,
   "metadata": {},
   "outputs": [],
   "source": [
    "# Activity 1: Handling Missing Data\n",
    "\n",
    "# Task A: Dropping vs Imputation\n",
    "\n",
    "# 1. Dropping Missing Data:\n",
    "# - Load a dataset (e.g., a CSV file with some missing values like employees.csv ).\n",
    "# - Inspect the dataset for missing values using a Python library (e.g., Pandas).\n",
    "# - Drop rows with missing data and save the result.\n",
    "\n",
    "\n",
    "\n",
    "\n",
    "\n",
    "\n",
    "# 2. Imputation using Mean:\n",
    "# - Use the same dataset.\n",
    "# - Fill missing numerical values with the column mean.\n",
    "# - Save and display the modified data.\n",
    "\n",
    "\n",
    "\n",
    "\n",
    "\n",
    "\n",
    "\n",
    "\n",
    "\n",
    "# 3. Imputation using Median and Mode:\n",
    "# - For numerical columns, replace missing values with the median.\n",
    "# - For categorical columns, use the mode.\n",
    "# - Display the updated dataset.\n",
    "\n",
    "\n",
    "\n",
    "\n",
    "\n"
   ]
  },
  {
   "cell_type": "code",
   "execution_count": null,
   "metadata": {},
   "outputs": [],
   "source": [
    "# Task B: Predictive Imputation\n",
    "\n",
    "# 4. ML-based Imputation with Simple Imputer:\n",
    "# - Use SimpleImputer from sklearn to fill missing values.\n",
    "# - Choose a strategy (e.g., mean) and apply it to the dataset.\n",
    "\n",
    "\n",
    "\n",
    "\n",
    "\n",
    "# 5. Imputation using a Regression Model:\n",
    "# - Use a regression model to predict missing values.\n",
    "# - Train the model on complete cases and fill the missing data.\n",
    "\n",
    "\n",
    "\n",
    "\n",
    "# 6. K-Nearest Neighbors Imputation:\n",
    "# - Use KNNImputer from sklearn .\n",
    "# - Impute missing data based on neighbors' information.\n",
    "\n",
    "\n",
    "\n",
    "\n"
   ]
  }
 ],
 "metadata": {
  "kernelspec": {
   "display_name": "Python 3",
   "language": "python",
   "name": "python3"
  },
  "language_info": {
   "codemirror_mode": {
    "name": "ipython",
    "version": 3
   },
   "file_extension": ".py",
   "mimetype": "text/x-python",
   "name": "python",
   "nbconvert_exporter": "python",
   "pygments_lexer": "ipython3",
   "version": "3.10.12"
  }
 },
 "nbformat": 4,
 "nbformat_minor": 2
}
