{
 "cells": [
  {
   "cell_type": "code",
   "execution_count": null,
   "metadata": {},
   "outputs": [],
   "source": [
    "# Question: Data Quality Automation Tools - Introduction to Great Expectations\n",
    "# Description: Set up a simple Great Expectations check for missing values in a numeric column.\n",
    "# scripts/init_great_expectations.py\n",
import great_expectations as ge
import os
ge_root_dir = "great_expectations"
if not os.path.exists(ge_root_dir):
    context = ge.data_context.DataContext.create(ge_root_dir)
    print(f"Great Expectations initialized at: {ge_root_dir}")
else:
    context = ge.data_context.DataContext(ge_root_dir)
    print(f"Great Expectations already initialized at: {ge_root_dir}")
datasource_name = "my_csv_datasource"
data_asset_name = "my_numeric_data"
base_path = os.path.abspath(os.path.join(os.path.dirname(__file__), '..'))
data_file_path = os.path.join(base_path, 'my_data.csv')
try:
    datasource = context.add_datasource(
        name=datasource_name,
        class_name="Datasource",
        module_name="great_expectations.datasource",
        execution_engine={
            "class_name": "PandasExecutionEngine",
            "module_name": "great_expectations.execution_engine",
        },
        data_connectors={
            "default_runtime_data_connector": {
                "class_name": "RuntimeDataConnector",
                "module_name": "great_expectations.datasource.data_connector",
                "batch_identifiers":["batch_id"],
            },
            "default_inferred_data_connector": {
                "class_name": "InferredAssetSqlDataConnector",
                "base_directory": os.path.dirname(data_file_path),
                "default_regex": {
                    "pattern": ".*\\.csv",
                    "group_names": ["data_asset_name"],
                },
            },
        },
    )
    print(f"Datasource '{datasource_name}' added.")
except ge.exceptions.DataContextError as e:
    print(f"Datasource '{datasource_name}' already exists or error: {e}")
    datasource = context.get_datasource(datasource_name)
expectation_suite_name = "my_numeric_column_suite"
try:
    suite = context.create_expectation_suite(expectation_suite_name=expectation_suite_name, overwrite_existing=True)
    suite.add_expectation(
        ge.core.ExpectationConfiguration(
            expectation_type="expect_column_values_to_not_be_null",
            kwargs={"column": "numeric_column"}
        )
    )
    context.save_expectation_suite(suite)
    print(f"Expectation suite '{expectation_suite_name}' created and saved.")
except Exception as e:
    print(f"Error creating or saving expectation suite: {e}")
batch_request = ge.core.batch_request.BatchRequest(
    datasource_name=datasource_name,
    data_connector_name="default_inferred_data_connector",
    data_asset_name=os.path.basename(data_file_path),
    limit=None
)
print(f"\nRunning validation for '{data_asset_name}' with suite '{expectation_suite_name}'...")
validator = context.get_validator(
    batch_request=batch_request,
    expectation_suite_name=expectation_suite_name
)
results = validator.validate()
print("\nValidation Results:")
print(f"Success: {results['success']}")
for result in results["results"]:
    if not result["success"]:
        print(f"  Failed Expectation: {result['expectation_config']['expectation_type']}")
        print(f"    Column: {result['expectation_config']['kwargs'].get('column')}")
        print(f"    Details: {result['result']}")
    else:
        print(f"  Passed Expectation: {result['expectation_config']['expectation_type']} for column '{result['expectation_config']['kwargs'].get('column')}'")
print("\nBuilding Data Docs...")
context.build_data_docs()
print("Data Docs built. You can open them in your browser to see a detailed report.")
print(f"To open Data Docs, run: great_expectations docs open")
    "\n"
   ]
  }
 ],
 "metadata": {
  "kernelspec": {
   "display_name": "Python 3",
   "language": "python",
   "name": "python3"
  },
  "language_info": {
   "codemirror_mode": {
    "name": "ipython",
    "version": 3
   },
   "file_extension": ".py",
   "mimetype": "text/x-python",
   "name": "python",
   "nbconvert_exporter": "python",
   "pygments_lexer": "ipython3",
   "version": "3.10.12"
  }
 },
 "nbformat": 4,
 "nbformat_minor": 2
}
