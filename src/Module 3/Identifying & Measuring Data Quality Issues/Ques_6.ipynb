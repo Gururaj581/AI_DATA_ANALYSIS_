{
 "cells": [
  {
   "cell_type": "# Question: Evaluating Data Distribution
# Description: Analyze the distribution of a numeric column using histograms and descriptive statistics.
    
   "source": [
    "# Question: Evaluating Data Distribution\n",
    "# Description: Analyze the distribution of a numeric column using histograms and descriptive statistics.\n",
    "\n",
    "import pandas as pd\n",
    "import numpy as np\n",
    "import matplotlib.pyplot as plt\n",
    "import seaborn as sns\n",
    "from scipy import stats\n",
    "\n",
    "np.random.seed(0)\n",
    "df = pd.DataFrame({\n",
    "    'sample_column': np.random.normal(loc=50, scale=15, size=1000)  \n",
    "})\n",
    "\n",
    "column = 'sample_column'\n",
    "data = df[column].dropna()\n",
    "\n",
    "\n",
    "desc_stats = {\n",
    "    'count': data.count(),\n",
    "    'mean': data.mean(),\n",
    "    'median': data.median(),\n",
    "    'mode': data.mode().iloc[0] if not data.mode().empty else np.nan,\n",
    "    'std_dev': data.std(),\n",
    "    'min': data.min(),\n",
    "    'max': data.max(),\n",
    "    'skewness': data.skew(),\n",
    "    'kurtosis': data.kurtosis()\n",
    "}\n",
    "\n",
    "print(\"Descriptive Statistics:\")\n",
    "for k, v in desc_stats.items():\n",
    "    print(f\"{k}: {v:.4f}\")\n",
    "\n",
    "\n",
    "plt.figure(figsize=(15, 4))\n",
    "\n",
    
    "plt.subplot(1, 3, 1)\n",
    "sns.histplot(data, kde=True, bins=30)\n",
    "plt.title(\"Histogram with KDE\")\n",
    
    "plt.subplot(1, 3, 2)\n",
    "sns.boxplot(x=data)\n",
    "plt.title(\"Boxplot\")\n",
    "\n",
    "plt.subplot(1, 3, 3)\n",
    "stats.probplot(data, dist=\"norm\", plot=plt)\n",
    "plt.title(\"QQ Plot\")\n",
    
    "plt.tight_layout()\n",
    "plt.show()\n"
   ]
  }
 ],
 "metadata": {
  "kernelspec": {
   "display_name": "Python 3",
   "language": "python",
   "name": "python3"
  },
  "language_info": {
   "codemirror_mode": {
    "name": "ipython",
    "version": 3
   },
   "file_extension": ".py",
   "mimetype": "text/x-python",
   "name": "python",
   "nbconvert_exporter": "python",
   "pygments_lexer": "ipython3",
   "version": "3.10.12"
  }
 },
 "nbformat": 4,
 "nbformat_minor": 2
}
