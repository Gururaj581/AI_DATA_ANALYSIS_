{
 "cells": [
  {
   "cell_type": "code",
   "execution_count": null,
   "metadata": {},
   "outputs": [],
   "source": [
    "# Common Data Errors Examples\n",
    "\n",
    "# 1. Missing Data:\n",
    "# Task 1: Review a dataset where some customer emails are missing. Identify how\n",
    "# many records are incomplete.\n",
    "# Task 2: Examine a sales dataset with missing transaction dates and determine the\n",
    "# percentage of missing data.\n",
    "# Task 3: Identify missing department information in an employee registry.\n",
    "\n",
    "\n",
    "\n",
    "\n",
    "\n",
    "\n",
    "# 2. Duplicate Data:\n",
    "# Task 1: Analyze a customer dataset with duplicate entries and count the number of\n",
    "# duplicates.\n",
    "# Task 2: Review supplier data and identify any repeated supplier names.\n",
    "# Task 3: Examine a product inventory list for duplicates in product IDs.\n",
    "\n",
    "\n",
    "\n",
    "\n",
    "\n",
    "\n",
    "# 3. Inconsistent Formatting:\n",
    "# Task 1: Spot inconsistencies in date formats (e.g., DD/MM/YYYY vs. MM/DD/YYYY)\n",
    "# in a dataset.\n",
    "# Task 2: Identify phone numbers with varying formats in a contact list.\n",
    "# Task 3: Review address data for discrepancies in state abbreviations (e.g., CA vs.\n",
    "# Calif.).\n",
    "\n",
    "\n",
    "\n",
    "\n",
    "\n",
    "# 4. Data Drift:\n",
    "# Task 1: Compare monthly revenues over six months to identify data drift.\n",
    "# Task 2: Analyze user engagement metrics from a web application over different\n",
    "# quarters.\n",
    "# Task 3: Review a stock price dataset to detect any anomalies over a year.\n",
    "\n",
    "\n",
    "\n"
   ]
  }
 ],
 "metadata": {
  "kernelspec": {
   "display_name": "Python 3",
   "language": "python",
   "name": "python3"
  },
  "language_info": {
   "codemirror_mode": {
    "name": "ipython",
    "version": 3
   },
   "file_extension": ".py",
   "mimetype": "text/x-python",
   "name": "python",
   "nbconvert_exporter": "python",
   "pygments_lexer": "ipython3",
   "version": "3.10.12"
  }
 },
 "nbformat": 4,
 "nbformat_minor": 2
}
