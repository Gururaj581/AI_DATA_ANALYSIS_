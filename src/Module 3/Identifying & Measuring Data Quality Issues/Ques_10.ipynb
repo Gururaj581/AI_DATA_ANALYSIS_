{
 "cells": [
  {
   "cell_type": "code",
   "execution_count": 2,
   "metadata": {},
   "outputs": [],
   "source": [
    "# Question: Advanced Data Profiling and Outlier Detection\n",
    "# Description: Perform detailed data profiling including outlier detection for numeric columns.\n",
    "\n",
    "import pandas as pd\n",
    "import numpy as np\n",
    "from scipy import stats\n",
    "\n",
    "def profile_numeric_column(df, column_name):\n",
    "    data = df[column_name].dropna()\n",
    "    profile = {}\n",
    "    \n",
    "    # Basic stats\n",
    "    profile['count'] = data.count()\n",
    "    profile['mean'] = data.mean()\n",
    "    profile['median'] = data.median()\n",
    "    profile['mode'] = data.mode().iloc[0] if not data.mode().empty else np.nan\n",
    "    profile['std_dev'] = data.std()\n",
    "    profile['min'] = data.min()\n",
    "    profile['max'] = data.max()\n",
    "    \n",
    "    # Distribution\n",
    "    profile['skewness'] = data.skew()\n",
    "    profile['kurtosis'] = data.kurtosis()\n",
    "    \n",
    "    # Missing and zeros\n",
    "    profile['missing_count'] = df[column_name].isnull().sum()\n",
    "    profile['missing_percentage'] = (profile['missing_count'] / len(df)) * 100\n",
    "    profile['zero_count'] = (data == 0).sum()\n",
    "    profile['zero_percentage'] = (profile['zero_count'] / len(df)) * 100\n",
    "\n",
    "    # IQR Outliers\n",
    "    Q1 = data.quantile(0.25)\n",
    "    Q3 = data.quantile(0.75)\n",
    "    IQR = Q3 - Q1\n",
    "    lower_bound = Q1 - 1.5 * IQR\n",
    "    upper_bound = Q3 + 1.5 * IQR\n",
    "    iqr_outliers = data[(data < lower_bound) | (data > upper_bound)]\n",
    "    profile['iqr_outlier_count'] = len(iqr_outliers)\n",
    "    \n",
    "    # Z-Score Outliers\n",
    "    z_scores = np.abs(stats.zscore(data))\n",
    "    z_outliers = data[z_scores > 3]\n",
    "    profile['z_outlier_count'] = len(z_outliers)\n",
    "\n",
    "    return profile\n",
    "\n",
    "\n",
    "\n",
    "\n"
   ]
  }
 ],
 "metadata": {
  "kernelspec": {
   "display_name": "Python 3",
   "language": "python",
   "name": "python3"
  },
  "language_info": {
   "codemirror_mode": {
    "name": "ipython",
    "version": 3
   },
   "file_extension": ".py",
   "mimetype": "text/x-python",
   "name": "python",
   "nbconvert_exporter": "python",
   "pygments_lexer": "ipython3",
   "version": "3.10.12"
  }
 },
 "nbformat": 4,
 "nbformat_minor": 2
}
