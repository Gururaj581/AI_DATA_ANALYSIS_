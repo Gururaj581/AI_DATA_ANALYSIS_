{
 "cells": [
  {
   "cell_type": "code",
   "execution_count": null,
   "metadata": {},
   "outputs": [],
   "source": [
    "# Task 1: Load a CSV Dataset\n",
    "# Description: Load a CSV file into a Pandas DataFrame and print the first five rows to understand the structure of the dataset.\n",
    "\n",
    "import pandas as pd\n",
    "\n",
    "# Load the CSV file (replace 'your_file.csv' with the actual file name or path)\n",
    "df = pd.read_csv('your_file.csv')\n",
    "\n",
    "# Print the first five rows to understand the dataset structure\n",
    "print(df.head())\n",
    "\n",
    "\n"
   ]
  },
  {
   "cell_type": "code",
   "execution_count": null,
   "metadata": {},
   "outputs": [],
   "source": [
    "# Task 2: Check for Missing Values\n",
    "# Description: Identify and list the columns with missing values and the number of missing values in each.\n",
    "\n",
    "import pandas as pd\n",
    "\n",
    "# Load your CSV file into a DataFrame\n",
    "df = pd.read_csv('path_to_your_file.csv')\n",
    "\n",
    "# Count the number of missing values per column\n",
    "missing_values = df.isnull().sum()\n",
    "\n",
    "# Filter columns that have missing values\n",
    "missing_columns = missing_values[missing_values > 0]\n",
    "\n",
    "# Display the columns with their respective missing value counts\n",
    "print(missing_columns)\n"
   ]
  },
  {
   "cell_type": "code",
   "execution_count": null,
   "metadata": {},
   "outputs": [],
   "source": [
    "import pandas as pd\n",
    "import seaborn as sns\n",
    "import matplotlib.pyplot as plt\n",
    "df = pd.read_csv('path_to_your_file.csv')\n",
    "plt.figure(figsize=(12, 8))\n",
    "sns.heatmap(df.isnull(), cbar=False, cmap='viridis')\n",
    "plt.title('Missing Data Heatmap')\n",
    "plt.show()\n",
    "mask = df.isna()\n",
    "sns.heatmap(df, annot=True, cmap='viridis', mask=mask)\n",
    "sns.heatmap(df.isnull(), cbar=False, cmap='coolwarm')\n",
    "\n",
    "\n",
    "\n"
   ]
  },
  {
   "cell_type": "code",
   "execution_count": null,
   "metadata": {},
   "outputs": [],
   "source": [
    "# Task 4: Remove Columns with Many Missing Values\n",
    "# Description: Drop columns that have more than 50% missing values.\n",
    "\n",
    "\n"
   ]
  },
  {
   "cell_type": "code",
   "execution_count": null,
   "metadata": {},
   "outputs": [],
   "source": [
    "# Task 5: Identify Duplicate Rows\n",
    "# Description: Check for and display any duplicate rows in the dataset.\n",
    "\n",
    "\n"
   ]
  },
  {
   "cell_type": "code",
   "execution_count": null,
   "metadata": {},
   "outputs": [],
   "source": [
    "# Task 6: Remove Duplicate Rows\n",
    "# Description: Remove duplicate rows from the dataset and verify that they have been removed.\n",
    "\n",
    "\n"
   ]
  },
  {
   "cell_type": "code",
   "execution_count": null,
   "metadata": {},
   "outputs": [],
   "source": [
    "# Task 7: Check Data Inconsistencies\n",
    "# Description: Identify inconsistencies in categorical columns, such as differing text cases or trailing spaces.\n",
    "\n",
    "\n"
   ]
  },
  {
   "cell_type": "code",
   "execution_count": null,
   "metadata": {},
   "outputs": [],
   "source": [
    "# Task 8: Get Summary of Data Quality\n",
    "# Description: Generate a summary of data quality including total records, number of duplicate rows, and columns with missing values.\n",
    "\n",
    "\n"
   ]
  },
  {
   "cell_type": "code",
   "execution_count": null,
   "metadata": {},
   "outputs": [],
   "source": [
    "# Task 9: Generate a Data Quality Report\n",
    "# Description: Create a comprehensive data quality report that includes not only missing values but also basic statistics for numerical columns and the distribution of categorical columns.\n",
    "\n",
    "\n"
   ]
  },
  {
   "cell_type": "code",
   "execution_count": null,
   "metadata": {},
   "outputs": [],
   "source": [
    "# Task 10: Advanced Data Imputation\n",
    "# Description: Perform advanced data imputation by replacing missing values in numerical columns with the mean and categorical columns with the mode.\n",
    "\n",
    "\n",
    "\n"
   ]
  }
 ],
 "metadata": {
  "kernelspec": {
   "display_name": "Python 3",
   "language": "python",
   "name": "python3"
  },
  "language_info": {
   "codemirror_mode": {
    "name": "ipython",
    "version": 3
   },
   "file_extension": ".py",
   "mimetype": "text/x-python",
   "name": "python",
   "nbconvert_exporter": "python",
   "pygments_lexer": "ipython3",
   "version": "3.10.12"
  }
 },
 "nbformat": 4,
 "nbformat_minor": 2
}
