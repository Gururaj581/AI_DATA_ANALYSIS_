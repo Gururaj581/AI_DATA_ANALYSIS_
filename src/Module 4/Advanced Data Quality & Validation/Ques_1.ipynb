{
 "cells": [
  {
   "cell_type": "code",
   "execution_count": null,
   "metadata": {},
   "outputs": [],
   "source": [
    "# Data Drift Impact on Model\n",
    "# Question: Use a simple linear regression model to demonstrate how data drift affects model predictions.\n",
    "\n",
    "# 1. Train a model on the original data:\n",
    "# 2. Evaluate on the drifted data:\n",
    "# 3. Compare errors:\n",
    "\n",
    "import numpy as np\n",
    "import pandas as pd\n",
    "from sklearn.linear_model import LinearRegression\n",
    "from sklearn.metrics import mean_squared_error\n",
    "import matplotlib.pyplot as plt\n",
    "\n",
    "# Generate synthetic data\n",
    "np.random.seed(42)\n",
    "X = np.random.rand(100, 1) * 10  # Feature: Random numbers scaled by 10\n",
    "y = 2.5 * X.squeeze() + np.random.randn(100) * 2  # Target: Linear relationship with noise\n",
    "\n",
    "# Train-test split\n",
    "train_size = int(0.8 * len(X))\n",
    "X_train, X_test = X[:train_size], X[train_size:]\n",
    "y_train, y_test = y[:train_size], y[train_size:]\n",
    "\n",
    "# Train the linear regression model\n",
    "model = LinearRegression()\n",
    "model.fit(X_train, y_train)\n",
    "\n",
    "# Predict on the test set\n",
    "y_pred = model.predict(X_test)\n",
    "\n",
    "# Evaluate the model\n",
    "mse_original = mean_squared_error(y_test, y_pred)\n",
    "print(f\"Original Mean Squared Error: {mse_original:.2f}\")\n",
    "\n",
    "# Introduce data drift by changing the distribution of X in the test set\n",
    "X_test_drifted = X_test + np.random.randn(len(X_test)) * 3  # Adding noise to introduce drift\n",
    "\n",
    "# Predict on the drifted test set\n",
    "y_pred_drifted = model.predict(X_test_drifted)\n",
    "\n",
    "# Evaluate the model on the drifted data\n",
    "mse_drifted = mean_squared_error(y_test, y_pred_drifted)\n",
    "print(f\"Drifted Mean Squared Error: {mse_drifted:.2f}\")\n",
    "\n",
    "print(f\"Difference in MSE: {mse_drifted - mse_original:.2f}\")\n",
    "\n",
    "\n"
   ]
  },
  {
   "cell_type": "code",
   "execution_count": null,
   "metadata": {},
   "outputs": [],
   "source": [
    "# Monitoring Data Distribution Changes\n",
    "# Question: Use Python to monitor distribution changes in features to detect potential data drift.\n",
    "\n",
    "# 1. Calculate feature statistics (mean and standard deviation) for both original and drifted data:\n",
    "# 2. Compare statistics:\n",
    "# 3. Set thresholds to detect significant drift:\n",
    "\n",
    "\n"
   ]
  },
  {
   "cell_type": "code",
   "execution_count": null,
   "metadata": {},
   "outputs": [],
   "source": [
    "# Automating Data Quality Checks with Python\n",
    "# Question: Automate a basic data validation process using Python to ensure the dataset's\n",
    "# structural integrity.\n",
    "\n",
    "# 1. Define validation checks:\n",
    "# 2. Apply validation:\n",
    "\n",
    "\n"
   ]
  },
  {
   "cell_type": "code",
   "execution_count": null,
   "metadata": {},
   "outputs": [],
   "source": [
    "# Introducing Great Expectations for Data Validation\n",
    "# Question: Use Great Expectations to set up data validation checks for a dataset.\n",
    "\n",
    "# 1. Install Great Expectations:\n",
    "# 2. Create a new expectations suite:\n",
    "# 3. Load data and generate expectations:\n",
    "\n",
    "\n"
   ]
  },
  {
   "cell_type": "code",
   "execution_count": null,
   "metadata": {},
   "outputs": [],
   "source": [
    "# Automating Constraint Checks with Python\n",
    "# Question: Automate primary key and foreign key constraint checks using Python to ensure dataset compliance.\n",
    "\n",
    "\n",
    "# 1. Assuming datasets exist with primary and foreign key relationships in pandas dataframes employees_df and departments_df :\n",
    "\n",
    "\n"
   ]
  },
  {
   "cell_type": "code",
   "execution_count": null,
   "metadata": {},
   "outputs": [],
   "source": [
    "# Advanced Data Drift Detection using Statistical Tests\n",
    "# Question: Implement Kolmogorov-Smirnov test using Python to detect data drift at a more sophisticated level.\n",
    "\n",
    "# 1. Use SciPy to perform KS test:\n",
    "\n",
    "\n"
   ]
  }
 ],
 "metadata": {
  "kernelspec": {
   "display_name": "Python 3",
   "language": "python",
   "name": "python3"
  },
  "language_info": {
   "codemirror_mode": {
    "name": "ipython",
    "version": 3
   },
   "file_extension": ".py",
   "mimetype": "text/x-python",
   "name": "python",
   "nbconvert_exporter": "python",
   "pygments_lexer": "ipython3",
   "version": "3.10.12"
  }
 },
 "nbformat": 4,
 "nbformat_minor": 2
}
