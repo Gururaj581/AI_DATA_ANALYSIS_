{
 "cells": [
  {
   "cell_type": "markdown",
   "metadata": {},
   "source": [
    "## Validate Data Completeness for Critical Fields\n",
    "\n",
    "**Description**: In `transaction_data.csv` , calculate the missing percentage of critical fields: \"transaction_id\", \"amount\", and \"date\", and visualize them."
   ]
  },
  {
   "cell_type": "code",
   "execution_count": null,
   "metadata": {},
   "outputs": [],
   "source": [
    "# Write your code from here\n",
    "import pandas as pd\n",
    "import matplotlib.pyplot as plt\n",
    "\n",
    "def validate_completeness_critical_fields(file_path, critical_fields):\n",
    "    \"\"\"\n",
    "    Calculates and visualizes the missing percentage of critical fields in a CSV file.\n",
    "\n",
    "    Args:\n",
    "        file_path (str): Path to the CSV file containing transaction data.\n",
    "        critical_fields (list): A list of strings representing the names of the\n",
    "                               critical fields to validate.\n",
    "    \"\"\"\n",
    "    try:\n",
    "        df = pd.read_csv(file_path)\n",
    "    except FileNotFoundError as e:\n",
    "        print(f\"Error: File not found: {e}\")\n",
    "        return\n",
    "\n",
    "    # Check if all critical fields exist in the DataFrame\n",
    "    missing_columns = [field for field in critical_fields if field not in df.columns]\n",
    "    if missing_columns:\n",
    "        print(f\"Error: Critical fields {missing_columns} not found in the CSV.\")\n",
    "        return\n",
    "\n",
    "    # Calculate missing percentages for critical fields\n",
    "    missing_percentages = {}\n",
    "    for field in critical_fields:\n",
    "        missing_count = df[field].isnull().sum()\n",
    "        total_count = len(df)\n",
    "        missing_percentages[field] = (missing_count / total_count) * 100\n",
    "\n",
    "    # Visualize missing percentages\n",
    "    plt.figure(figsize=(8, 5))\n",
    "    plt.bar(missing_percentages.keys(), missing_percentages.values())\n",
    "    plt.title('Missing Data Percentage for Critical Fields')\n",
    "    plt.xlabel('Critical Field')\n",
    "    plt.ylabel('Missing Percentage (%)')\n",
    "    plt.ylim(0, 100)  # Set y-axis limit to 0-100% for percentage\n",
    "    plt.xticks(rotation=45, ha='right')  # Rotate x-axis labels for readability\n",
    "    plt.tight_layout()\n",
    "    plt.show()\n",
    "\n",
    "    # Print the missing percentages\n",
    "    print(\"Missing Data Percentage for Critical Fields:\")\n",
    "    for field, percentage in missing_percentages.items():\n",
    "        print(f\"- {field}: {percentage:.2f}%\")\n",
    "\n",
    "\n",
    "# Create a dummy CSV file with missing transaction data\n",
    "transaction_data = {'transaction_id': [1, None, 3, 4, 5, 6, 7, None, 9, 10],\n",
    "                      'amount': [100.0, 50.0, None, 80.0, 120.0, 70.0, 90.0, None, 150.0, 110.0],\n",
    "                      'date': ['2023-01-01', '2023-01-02', '2023-01-03', None, '2023-01-05',\n",
    "                               '2023-01-06', '2023-01-07', '2023-01-08', '2023-01-09', None],\n",
    "                      'customer_id': [101, 102, 103, 104, 105, 106, 107, 108, 109, 110]}\n",
    "transaction_df = pd.DataFrame(transaction_data)\n",
    "transaction_df.to_csv('transaction_data.csv', index=False)\n",
    "\n",
    "# Validate data completeness for critical fields\n",
    "critical_fields_to_check = [\"transaction_id\", \"amount\", \"date\"]\n",
    "validate_completeness_critical_fields('transaction_data.csv', critical_fields_to_check)"
   ]
  }
 ],
 "metadata": {
  "kernelspec": {
   "display_name": "base",
   "language": "python",
   "name": "python3"
  },
  "language_info": {
   "name": "python",
   "version": "3.12.7"
  }
 },
 "nbformat": 4,
 "nbformat_minor": 2
}
