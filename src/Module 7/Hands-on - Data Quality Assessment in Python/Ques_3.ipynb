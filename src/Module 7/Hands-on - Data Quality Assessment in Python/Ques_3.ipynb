{
 "cells": [
  {
   "cell_type": "markdown",
   "metadata": {},
   "source": [
    "## Check Uniqueness & Validity\n",
    "\n",
    "**Objective**: Evaluate data quality by checking for uniqueness and validity of data entries.\n",
    "\n",
    "For this activity, you will use a sample dataset students.csv that contains the following\n",
    "columns: ID , Name , Age , Grade , Email .\n",
    "\n",
    "**Steps**:\n",
    "1. Check Uniqueness\n",
    "    - Unique IDs\n",
    "    - Unique Email Addresses\n",
    "    - Unique Combination\n",
    "\n",
    "2. Check Validity\n",
    "    - Validate Age Range\n",
    "    - Validate Grade Scale\n",
    "    - Validate Name Format"
   ]
  },
  {
   "cell_type": "code",
   "execution_count": null,
   "metadata": {},
   "outputs": [],
   "source": [
    "\n",
    "import pandas as pd\n",
    "data = {\n",
    "    'ID': [101, 102, 103, 104, 105],\n",
    "    'Name': ['Alice Johnson', 'Bob Smith', 'Charlie-Ann', \"D'Arcy O'Neill\", 'Eve2'],\n",
    "    'Age': [20, 17, 19, 101, 'twenty'],\n",
    "    'Grade': [88, 92, 105, 76, 85],\n",
    "    'Email': ['alice@example.com', 'bob.smith@example.com', 'charlie@edu.org', 'darcy@school.com', 'alice@example.com']\n",
    "}\n",
    "df = pd.DataFrame(data)\n",
    "df.to_csv('students.csv', index=False)\n",
    "print(\"Sample students.csv file created.\")"
   ]
  }
 ],
 "metadata": {
  "kernelspec": {
   "display_name": "Python 3",
   "language": "python",
   "name": "python3"
  },
  "language_info": {
   "codemirror_mode": {
    "name": "ipython",
    "version": 3
   },
   "file_extension": ".py",
   "mimetype": "text/x-python",
   "name": "python",
   "nbconvert_exporter": "python",
   "pygments_lexer": "ipython3",
   "version": "3.10.12"
  }
 },
 "nbformat": 4,
 "nbformat_minor": 2
}
