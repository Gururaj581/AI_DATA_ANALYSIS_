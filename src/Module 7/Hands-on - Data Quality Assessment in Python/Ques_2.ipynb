{
 "cells": [
  {
   "cell_type": "markdown",
   "metadata": {},
   "source": [
    "## Check Accuracy & Completeness\n",
    "\n",
    "**Objective**: Learn to assess data quality by checking for accuracy and completeness using Python.\n",
    "\n",
    "For this, you will use a sample dataset students.csv that contains the following\n",
    "columns: ID , Name , Age , Grade , Email .\n",
    "\n",
    "**Steps**:\n",
    "1. Check Accuracy\n",
    "    - Verify Numerical Data Accuracy\n",
    "    - Validate Email Format\n",
    "    - Integer Accuracy Check for Age\n",
    "2. Check Completeness\n",
    "    - Identify Missing Values\n",
    "    - Rows with Missing Data\n",
    "    - Column Specific Missing Value Check"
   ]
  },
  {
   "cell_type": "code",
   "execution_count": null,
   "metadata": {},
   "outputs": [],
   "source": [
    "# Write your code from here\n",
    "import pandas as pd\n",
    "import numpy as np\n",
    "import re\n",
    "from io import StringIO\n",
    "data = \"\"\"ID,Name,Age,Grade,Email\n",
    "1,John Doe,20,A,john@example.com\n",
    "2,Jane Smith,21,B,jane@example.com\n",
    "3,Bob Johnson,,C,bob@example\n",
    "4,Alice Brown,22,,alice@example.com\n",
    "5,Tom Wilson,23.5,D,tom@example.com\n",
    "6,,24,E,not-an-email\n",
    "7,Mike Davis,25,F,mike@example.com\n",
    "\"\"\"\n",
    "df = pd.read_csv(StringIO(data))\n",
    "def check_accuracy(df):\n",
    "    numerical_cols = ['Age', 'Grade']\n",
    "    for col in numerical_cols:\n",
    "        if col in df.columns:\n",
    "            print(f\"\\nStatistics for {col}:\")\n",
    "            print(df[col].describe())\n",
    "    \n",
    "    if 'Email' in df.columns:\n",
    "        email_regex = r'^[a-zA-Z0-9._%+-]+@[a-zA-Z0-9.-]+\\.[a-zA-Z]{2,}$'\n",
    "        valid_emails = df['Email'].apply(lambda x: bool(re.match(email_regex, str(x))))\n",
    "        print(f\"\\nValid email percentage: {valid_emails.mean()*100:.2f}%\")\n",
    "    \n",
    "    if 'Age' in df.columns:\n",
    "        is_integer = df['Age'].apply(lambda x: float(x).is_integer() if not pd.isna(x) else False)\n",
    "        print(f\"\\nInteger age percentage: {is_integer.mean()*100:.2f}%\")\n",
    "def check_completeness(df):\n",
    "    print(\"\\nMissing values per column:\")\n",
    "    print(df.isnull().sum())\n",
    "    print(\"\\nRows with any missing data:\")\n",
    "    print(df[df.isnull().any(axis=1)])\n",
    "    print(\"\\nPercentage of missing values per column:\")\n",
    "    print(df.isnull().mean() * 100)\n",
    "print(\"Accuracy Checks:\")\n",
    "check_accuracy(df)\n",
    "\n",
    "print(\"\\nCompleteness Checks:\")\n",
    "check_completeness(df)"
   ]
  }
 ],
 "metadata": {
  "kernelspec": {
   "display_name": "Python 3",
   "language": "python",
   "name": "python3"
  },
  "language_info": {
   "codemirror_mode": {
    "name": "ipython",
    "version": 3
   },
   "file_extension": ".py",
   "mimetype": "text/x-python",
   "name": "python",
   "nbconvert_exporter": "python",
   "pygments_lexer": "ipython3",
   "version": "3.10.12"
  }
 },
 "nbformat": 4,
 "nbformat_minor": 2
}
