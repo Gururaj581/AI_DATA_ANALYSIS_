{
 "cells": [
  {
   "cell_type": "markdown",
   "metadata": {},
   "source": [
    "### Detect Data Drift\n",
    "**Description**: Data drift can occur when the statistical properties of your data change over time. Learn to detect data drift using visualizations."
   ]
  },
  {
   "cell_type": "code",
   "execution_count": null,
   "metadata": {},
   "outputs": [],
   "source": [
    "\n",
    "import pandas as pd\n",
    "import numpy as np\n",
    "import matplotlib.pyplot as plt\n",
    "from scipy import stats\n",
    "def detect_data_drift(reference_data, current_data, feature_name):\n",
    "    reference_feature = reference_data[feature_name]\n",
    "    current_feature = current_data[feature_name]\n",
    "    plt.figure(figsize=(12, 6))\n",
    "    plt.subplot(1, 2, 1)\n",
    "    plt.hist(reference_feature, bins=30, alpha=0.5, label='Reference')\n",
    "    plt.hist(current_feature, bins=30, alpha=0.5, label='Current')\n",
    "    plt.title(f'Distribution of {feature_name}')\n",
    "    plt.legend()\n",
    "    plt.subplot(1, 2, 2)\n",
    "    plt.boxplot([reference_feature, current_feature], labels=['Reference', 'Current'])\n",
    "    plt.title(f'Boxplot of {feature_name}')\n",
    "    plt.tight_layout()\n",
    "    plt.show()\n",
    "    ks_statistic, p_value = stats.ks_2samp(reference_feature, current_feature)\n",
    "    print(f\"KS Statistic: {ks_statistic}, p-value: {p_value}\")\n",
    "    if p_value < 0.05:\n",
    "        print(\"Warning: Significant drift detected!\")\n",
    "    else:\n",
    "        print(\"No significant drift detected.\")\n",
    "np.random.seed(42)\n",
    "reference_data = pd.DataFrame({'feature': np.random.normal(0, 1, 1000)})\n",
    "current_data = pd.DataFrame({'feature': np.random.normal(0.5, 1.2, 1000)})\n",
    "detect_data_drift(reference_data, current_data, 'feature')\n"
   ]
  }
 ],
 "metadata": {
  "kernelspec": {
   "display_name": "Python 3",
   "language": "python",
   "name": "python3"
  },
  "language_info": {
   "codemirror_mode": {
    "name": "ipython",
    "version": 3
   },
   "file_extension": ".py",
   "mimetype": "text/x-python",
   "name": "python",
   "nbconvert_exporter": "python",
   "pygments_lexer": "ipython3",
   "version": "3.10.12"
  }
 },
 "nbformat": 4,
 "nbformat_minor": 2
}
