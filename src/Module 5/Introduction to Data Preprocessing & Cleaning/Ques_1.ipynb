{
 "cells": [
  {
   "cell_type": "code",
   "execution_count": null,
   "metadata": {},
   "outputs": [],
   "source": [
    "# Question: Advanced Data Cleaning with Multiple Issues\n",
    "# Objective: Handle multiple issues in one dataset, including missing values, duplicates, and outliers.\n",
    "# Description: Given a dataset with various data quality issues, employ multiple data cleaning techniques.\n",
    "\n",
    "import pandas as pd\n",
    "import numpy as np\n",
    "from scipy import stats\n",
    "\n",
    "def clean_dataset(df):\n",
    "    original_shape = df.shape\n",
    "    \n",
    "    df = df.drop_duplicates()\n",
    "    duplicates_removed = original_shape[0] - df.shape[0]\n",
    "    \n",
    "    for col in df.columns:\n",
    "        if df[col].dtype in ['int64',\n"
   ]
  },
  {
   "cell_type": "code",
   "execution_count": null,
   "metadata": {},
   "outputs": [],
   "source": [
    "# Question: Data Transformation Techniques\n",
    "# Objective: Transform skewed data using log transformation.\n",
    "# Description: Perform a log transformation to handle skewness in a dataset, which is particularly useful for\n",
    "# certain machine learning models.\n",
    "\n"
   ]
  },
  {
   "cell_type": "code",
   "execution_count": null,
   "metadata": {},
   "outputs": [],
   "source": [
    "# Question: Feature Engineering by Creating New Features\n",
    "# Objective: Create a new feature based on existing features to add predictive power.\n",
    "# Description: Generate additional features from existing data to potentially improve the performance of\n",
    "# prediction models.\n",
    "\n",
    "\n"
   ]
  },
  {
   "cell_type": "code",
   "execution_count": null,
   "metadata": {},
   "outputs": [],
   "source": [
    "# Question: Handling Complex Outliers with Z-Scores\n",
    "# Objective: Detect and handle outliers using Z-score method.\n",
    "# Description: Use the Z-score method to identify outliers which significantly differ from the rest of the data points.\n",
    "\n",
    "\n"
   ]
  },
  {
   "cell_type": "code",
   "execution_count": null,
   "metadata": {},
   "outputs": [],
   "source": [
    "# Question: Data Imputation with K-Nearest Neighbors (KNN)\n",
    "# Objective: Impute missing numerical values using the KNN method.\n",
    "# Description: Use the K-nearest neighbors algorithm to fill in missing values, which considers the values of\n",
    "# nearest neighbors for imputation.\n",
    "\n",
    "\n"
   ]
  }
 ],
 "metadata": {
  "kernelspec": {
   "display_name": "Python 3",
   "language": "python",
   "name": "python3"
  },
  "language_info": {
   "codemirror_mode": {
    "name": "ipython",
    "version": 3
   },
   "file_extension": ".py",
   "mimetype": "text/x-python",
   "name": "python",
   "nbconvert_exporter": "python",
   "pygments_lexer": "ipython3",
   "version": "3.10.12"
  }
 },
 "nbformat": 4,
 "nbformat_minor": 2
}
