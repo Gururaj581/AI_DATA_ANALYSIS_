{
 "cells": [
  {
   "cell_type": "code",
   "execution_count": null,
   "metadata": {},
   "outputs": [],
   "source": [
    "# Part 2: Remove Duplicates & Fix Data Types\n",
    "\n",
    "# Task 1: Remove Duplicates\n",
    "#     1. Load Extended Data:\n",
    "#     2. Remove Duplicates:\n",
    "   \n",
    "import pandas as pd\n",
    "\n",
    "# Load the dataset\n",
    "df = pd.read_csv('data.csv')\n",
    "# Remove duplicate rows\n",
    "df_no_duplicates = df.drop_duplicates()\n",
    "# Remove duplicates based on 'Name' and 'Age' columns\n",
    "df_no_duplicates = df.drop_duplicates(subset=['Name', 'Age'])\n",
    "\n",
    "\n",
    "# Task 2: Fix Data Types\n",
    "#     1. Fix Incorrect Data Types:\n",
    "# Convert 'Age' column to numeric\n",
    "df['Age'] = pd.to_numeric(df['Age'], errors='coerce')\n",
    "\n",
    "# Convert 'Score' column to float\n",
    "df['Score'] = df['Score'].astype(float)\n",
    "# Automatically convert columns to best possible data types\n",
    "df = df.convert_dtypes()\n",
    "      \n",
    "\n",
    "\n",
    "# Task 3: Convert Data Type for Analysis\n",
    "#     1. Convert Date Strings to DateTime:\n",
    "# Convert 'Date' column to datetime\n",
    "df['Date'] = pd.to_datetime(df['Date'], errors='coerce')\n",
    "# Convert 'Date' column with specific format\n",
    "df['Date'] = pd.to_datetime(df['Date'], format='%Y-%m-%d', errors='coerce')\n",
    "\n",
    "\n"
   ]
  }
 ],
 "metadata": {
  "kernelspec": {
   "display_name": "Python 3",
   "language": "python",
   "name": "python3"
  },
  "language_info": {
   "codemirror_mode": {
    "name": "ipython",
    "version": 3
   },
   "file_extension": ".py",
   "mimetype": "text/x-python",
   "name": "python",
   "nbconvert_exporter": "python",
   "pygments_lexer": "ipython3",
   "version": "3.10.12"
  }
 },
 "nbformat": 4,
 "nbformat_minor": 2
}
