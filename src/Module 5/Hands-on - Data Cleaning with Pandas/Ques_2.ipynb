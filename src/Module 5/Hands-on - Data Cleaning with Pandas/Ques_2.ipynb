{
 "cells": [
  {
   "cell_type": "code",
   "execution_count": null,
   "metadata": {},
   "outputs": [],
   "source": [
    "\n",
    "import pandas as pd\n",
    "import numpy as np\n",
    "data = {\n",
    "    'Name': ['John', 'Anna', 'Peter', 'Linda', 'John', 'Anna'],\n",
    "    'Age': ['28', 34, '42', 41, '28', 34],\n",
    "    'City': ['New York', 'Seattle', 'Boston', 'Chicago', 'New York', 'Seattle'],\n",
    "    'Salary': [75000, 65000, 80000, 92000, 75000, '65000']\n",
    "}\n",
    "df = pd.DataFrame(data)\n",
    "df.to_csv('extended_data.csv', index=False)\n",
    "print(\"Extended CSV file created with the following data:\")\n",
    "print(df)\n",
    "print(\"\\n\")\n",
    "df = pd.read_csv('extended_data.csv')\n",
    "print(\"Data loaded from CSV:\")\n",
    "print(df)\n",
    "print(\"\\n\")\n",
    "duplicate_count = df.duplicated().sum()\n",
    "print(f\"Number of duplicate rows: {duplicate_count}\")\n",
    "print(\"\\n\")\n",
    "print(\"Duplicate rows:\")\n",
    "print(df[df.duplicated(keep='first')])\n",
    "print(\"\\n\")\n",
    "df_no_duplicates = df.drop_duplicates(keep='first')\n",
    "print(\"DataFrame after removing duplicates (keeping first occurrence):\")\n",
    "print(df_no_duplicates)\n",
    "print(\"\\n\")\n",
    "print(\"Removing duplicates based only on 'Name' and 'City' columns:\")\n",
    "df_subset_no_duplicates = df.drop_duplicates(subset=['Name', 'City'], keep='first')\n",
    "print(df_subset_no_duplicates)\n",
    "print(\"\\n\")\n",
    "print(\"Current data types:\")\n",
    "print(df_no_duplicates.dtypes)\n",
    "print(\"\\n\")\n",
    "try:\n",
    "    df_no_duplicates['Age'] = df_no_duplicates['Age'].astype(int)\n",
    "except ValueError:\n",
    "    print(\"Error converting Age directly. Using alternative method...\")\n",
    "    df_no_duplicates['Age'] = pd.to_numeric(df_no_duplicates['Age'], errors='coerce')\n",
    "try:\n",
    "    df_no_duplicates['Salary'] = df_no_duplicates['Salary'].astype(float)\n",
    "except ValueError:\n",
    "    print(\"Error converting Salary directly. Using alternative method...\")\n",
    "    df_no_duplicates['Salary'] = pd.to_numeric(df_no_duplicates['Salary'], errors='coerce')\n",
    "print(\"DataFrame with corrected data types:\")\n",
    "print(df_no_duplicates)\n",
    "print(\"\\n\")\n",
    "print(\"Updated data types:\")\n",
    "print(df_no_duplicates.dtypes)\n",
    "print(\"\\n\")\n",
    "print(\"Summary statistics after type conversion:\")\n",
    "print(df_no_duplicates.describe())\n"
   ]
  }
 ],
 "metadata": {
  "kernelspec": {
   "display_name": "Python 3",
   "language": "python",
   "name": "python3"
  },
  "language_info": {
   "codemirror_mode": {
    "name": "ipython",
    "version": 3
   },
   "file_extension": ".py",
   "mimetype": "text/x-python",
   "name": "python",
   "nbconvert_exporter": "python",
   "pygments_lexer": "ipython3",
   "version": "3.10.12"
  }
 },
 "nbformat": 4,
 "nbformat_minor": 2
}
