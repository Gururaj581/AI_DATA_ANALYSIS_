{
 "cells": [
  {
   "cell_type": "markdown",
   "metadata": {},
   "source": [
    "### Task 1: Understanding and Defining Data Quality Metrics\n",
    "**Description**: Learn how to define basic data quality metrics such as completeness, validity, and uniqueness for a simple dataset.\n",
    "\n",
    "**Steps**:\n",
    "1. Dataset: Use a CSV with columns like Name , Email , Age .\n",
    "2. Metric Definitions:\n",
    "    - Completeness: Percentage of non-null values.\n",
    "    - Validity: % of email fields containing @ .\n",
    "    - Uniqueness: Count distinct entries in the Email column."
   ]
  },
  {
   "cell_type": "code",
   "execution_count": 1,
   "metadata": {},
   "outputs": [
    {
     "name": "stdout",
     "output_type": "stream",
     "text": [
      "Completeness - Name: 0.83\n",
      "Completeness - Email: 1.00\n",
      "Completeness - Age: 0.83\n",
      "Validity - Email: 0.67\n",
      "Uniqueness - Email: 6\n"
     ]
    }
   ],
   "source": [
    "# Write your code from here\n",
    "import pandas as pd\n",
    "\n",
    "def calculate_completeness(series):\n",
    "    return series.count() / len(series) if len(series) > 0 else 0.0\n",
    "\n",
    "def calculate_validity_email(series):\n",
    "    valid_count = series.astype(str).str.contains('@').sum()\n",
    "    return valid_count / len(series) if len(series) > 0 else 0.0\n",
    "\n",
    "def calculate_uniqueness(series):\n",
    "    return series.nunique()\n",
    "\n",
    "data = {'Name': ['Alice', 'Bob', 'Charlie', 'David', 'Eve', None],\n",
    "        'Email': ['alice@example.com', 'bob@example.com', 'charlie@example.com', 'david.example', 'eve@example.com', ''],\n",
    "        'Age': [25, 30, 22, None, 28, 31]}\n",
    "df = pd.DataFrame(data)\n",
    "\n",
    "completeness_name = calculate_completeness(df['Name'])\n",
    "completeness_email = calculate_completeness(df['Email'])\n",
    "completeness_age = calculate_completeness(df['Age'])\n",
    "\n",
    "validity_email = calculate_validity_email(df['Email'])\n",
    "\n",
    "uniqueness_email = calculate_uniqueness(df['Email'])\n",
    "\n",
    "print(f\"Completeness - Name: {completeness_name:.2f}\")\n",
    "print(f\"Completeness - Email: {completeness_email:.2f}\")\n",
    "print(f\"Completeness - Age: {completeness_age:.2f}\")\n",
    "print(f\"Validity - Email: {validity_email:.2f}\")\n",
    "print(f\"Uniqueness - Email: {uniqueness_email}\")\n"
   ]
  },
  {
   "cell_type": "markdown",
   "metadata": {},
   "source": [
    "### Task 2: Calculating Data Quality Score\n",
    "**Description**: Aggregate multiple metrics to calculate an overall data quality score.\n",
    "\n",
    "**Steps**:\n",
    "1. Formula: Simple average of all metrics defined in Task 1."
   ]
  },
  {
   "cell_type": "code",
   "execution_count": 2,
   "metadata": {},
   "outputs": [
    {
     "name": "stdout",
     "output_type": "stream",
     "text": [
      "Completeness - Name: 0.83\n",
      "Completeness - Email: 1.00\n",
      "Completeness - Age: 0.83\n",
      "Validity - Email: 0.67\n",
      "Uniqueness - Email: 1.00\n",
      "Overall Data Quality Score: 0.87\n"
     ]
    }
   ],
   "source": [
    "# Write your code from here\n",
    "import pandas as pd\n",
    "\n",
    "def calculate_completeness(series):\n",
    "    return series.count() / len(series) if len(series) > 0 else 0.0\n",
    "\n",
    "def calculate_validity_email(series):\n",
    "    valid_count = series.astype(str).str.contains('@').sum()\n",
    "    return valid_count / len(series) if len(series) > 0 else 0.0\n",
    "\n",
    "def calculate_uniqueness(series):\n",
    "    return series.nunique() / len(series) if len(series) > 0 else 0.0\n",
    "\n",
    "data = {'Name': ['Alice', 'Bob', 'Charlie', 'David', 'Eve', None],\n",
    "        'Email': ['alice@example.com', 'bob@example.com', 'charlie@example.com', 'david.example', 'eve@example.com', ''],\n",
    "        'Age': [25, 30, 22, None, 28, 31]}\n",
    "df = pd.DataFrame(data)\n",
    "\n",
    "completeness_name = calculate_completeness(df['Name'])\n",
    "completeness_email = calculate_completeness(df['Email'])\n",
    "completeness_age = calculate_completeness(df['Age'])\n",
    "\n",
    "validity_email = calculate_validity_email(df['Email'])\n",
    "\n",
    "uniqueness_email = calculate_uniqueness(df['Email'])\n",
    "\n",
    "data_quality_score = (completeness_name + completeness_email + completeness_age + validity_email + uniqueness_email) / 5\n",
    "\n",
    "print(f\"Completeness - Name: {completeness_name:.2f}\")\n",
    "print(f\"Completeness - Email: {completeness_email:.2f}\")\n",
    "print(f\"Completeness - Age: {completeness_age:.2f}\")\n",
    "print(f\"Validity - Email: {validity_email:.2f}\")\n",
    "print(f\"Uniqueness - Email: {uniqueness_email:.2f}\")\n",
    "print(f\"Overall Data Quality Score: {data_quality_score:.2f}\")"
   ]
  },
  {
   "cell_type": "markdown",
   "metadata": {},
   "source": [
    "### Task 3: Creating Expectations for a CSV\n",
    "**Description**: Develop basic data quality expectations using Great Expectations.\n",
    "\n",
    "**Steps**:\n",
    "1. Expectation Suite\n",
    "2. Define Expectations for Completeness"
   ]
  },
  {
   "cell_type": "code",
   "execution_count": 3,
   "metadata": {},
   "outputs": [],
   "source": [
    "# Write your code from here\n"
   ]
  },
  {
   "cell_type": "markdown",
   "metadata": {},
   "source": [
    "### Task 4: Running and Validating Expectations\n",
    "**Description**: Run the created expectations and generate an output report.\n",
    "\n",
    "**Steps**:\n",
    "1. Validate\n",
    "2. Generate HTML Report"
   ]
  },
  {
   "cell_type": "code",
   "execution_count": 4,
   "metadata": {},
   "outputs": [],
   "source": [
    "# Write your code from here\n"
   ]
  },
  {
   "cell_type": "markdown",
   "metadata": {},
   "source": [
    "### Task 5: Automating Data Quality Score Calculation\n",
    "**Description**: Automate the data quality score via a script that integrates with Great\n",
    "Expectations."
   ]
  },
  {
   "cell_type": "code",
   "execution_count": 5,
   "metadata": {},
   "outputs": [],
   "source": [
    "# Write your code from here\n"
   ]
  },
  {
   "cell_type": "markdown",
   "metadata": {},
   "source": [
    "### Task 6: Leveraging Data Quality Metrics for Automated Data Cleaning\n",
    "**Description**: Implement a system where if data quality metrics fall below a threshold,\n",
    "automated data cleaning scripts are triggered.\n",
    "\n",
    "**Steps**:\n",
    "1. Define Cleaning Logic\n",
    "2. Integrate with Great Expectations:\n",
    "    - Use an action within the Great Expectations action list that only triggers if quality score is below a threshold, automating the cleaning."
   ]
  },
  {
   "cell_type": "code",
   "execution_count": 6,
   "metadata": {},
   "outputs": [
    {
     "ename": "AttributeError",
     "evalue": "module 'great_expectations' has no attribute 'from_pandas'",
     "output_type": "error",
     "traceback": [
      "\u001b[0;31m---------------------------------------------------------------------------\u001b[0m",
      "\u001b[0;31mAttributeError\u001b[0m                            Traceback (most recent call last)",
      "Cell \u001b[0;32mIn[6], line 25\u001b[0m\n\u001b[1;32m     22\u001b[0m sample_data\u001b[38;5;241m.\u001b[39mto_csv(csv_path, index\u001b[38;5;241m=\u001b[39m\u001b[38;5;28;01mFalse\u001b[39;00m)\n\u001b[1;32m     24\u001b[0m \u001b[38;5;66;03m# 3. Create a Validator directly from CSV\u001b[39;00m\n\u001b[0;32m---> 25\u001b[0m validator \u001b[38;5;241m=\u001b[39m \u001b[43mgx\u001b[49m\u001b[38;5;241;43m.\u001b[39;49m\u001b[43mfrom_pandas\u001b[49m(pd\u001b[38;5;241m.\u001b[39mread_csv(csv_path))\n\u001b[1;32m     27\u001b[0m \u001b[38;5;66;03m# 4. Create an Expectation Suite for Completeness\u001b[39;00m\n\u001b[1;32m     28\u001b[0m expectation_suite_name \u001b[38;5;241m=\u001b[39m \u001b[38;5;124m\"\u001b[39m\u001b[38;5;124mcustomer_data_completeness\u001b[39m\u001b[38;5;124m\"\u001b[39m\n",
      "\u001b[0;31mAttributeError\u001b[0m: module 'great_expectations' has no attribute 'from_pandas'"
     ]
    }
   ],
   "source": [
    "# Write your code from here\n",
    "# Install Great Expectations if needed\n",
    "# !pip install great_expectations\n",
    "\n",
    "import great_expectations as gx\n",
    "import pandas as pd\n",
    "\n",
    "# 1. Initialize a Data Context\n",
    "context = gx.get_context()\n",
    "\n",
    "# 2. Load your CSV file (example with sample data)\n",
    "csv_path = \"customer_data.csv\"  # Replace with your actual file path\n",
    "\n",
    "# Sample data creation (if you don't have a CSV yet)\n",
    "sample_data = pd.DataFrame({\n",
    "    'customer_id': [1001, 1002, 1003, None, 1005],\n",
    "    'name': ['John', 'Jane', None, 'Mike', 'Sarah'],\n",
    "    'email': ['john@email.com', 'jane@email.com', None, 'mike@email.com', None],\n",
    "    'join_date': ['2023-01-01', '2023-01-02', None, '2023-01-04', '2023-01-05'],\n",
    "    'purchase_amount': [125.50, 89.99, 150.00, None, 200.00]\n",
    "})\n",
    "sample_data.to_csv(csv_path, index=False)\n",
    "\n",
    "# 3. Create a Validator directly from CSV\n",
    "validator = gx.from_pandas(pd.read_csv(csv_path))\n",
    "\n",
    "# 4. Create an Expectation Suite for Completeness\n",
    "expectation_suite_name = \"customer_data_completeness\"\n",
    "validator.save_expectation_suite(expectation_suite_name=expectation_suite_name)\n",
    "\n",
    "# 5. Define Completeness Expectations\n",
    "\n",
    "# Basic column presence\n",
    "validator.expect_table_columns_to_match_ordered_list(\n",
    "    column_list=[\n",
    "        'customer_id',\n",
    "        'name',\n",
    "        'email',\n",
    "        'join_date',\n",
    "        'purchase_amount'\n",
    "    ]\n",
    ")\n",
    "\n",
    "# Column non-null expectations\n",
    "validator.expect_column_values_to_not_be_null(column=\"customer_id\")\n",
    "validator.expect_column_values_to_not_be_null(column=\"name\")\n",
    "validator.expect_column_values_to_not_be_null(column=\"join_date\")\n",
    "\n",
    "# Email - allow some nulls but track completeness\n",
    "validator.expect_column_values_to_not_be_null(\n",
    "    column=\"email\",\n",
    "    mostly=0.8  # Allow up to 20% nulls\n",
    ")\n",
    "\n",
    "# Purchase amount - allow some nulls but track\n",
    "validator.expect_column_values_to_not_be_null(\n",
    "    column=\"purchase_amount\",\n",
    "    mostly=0.9  # Allow up to 10% nulls\n",
    ")\n",
    "\n",
    "# 6. Save the Expectation Suite\n",
    "validator.save_expectation_suite(discard_failed_expectations=False)\n",
    "\n",
    "# 7. Validate the data\n",
    "validation_result = validator.validate()\n",
    "\n",
    "# 8. View results\n",
    "print(\"\\nCompleteness Validation Results:\")\n",
    "print(f\"Successful expectations: {validation_result.statistics['successful_expectations']}\")\n",
    "print(f\"Failed expectations: {validation_result.statistics['unsuccessful_expectations']}\")\n",
    "print(f\"Success rate: {validation_result.statistics['success_percent']:.2f}%\")\n",
    "\n",
    "# 9. Generate and open HTML report\n",
    "context.build_data_docs()\n",
    "context.open_data_docs()\n",
    "\n",
    "# 10. Optional: Get detailed results for failed expectations\n",
    "if not validation_result.success:\n",
    "    print(\"\\nFailed Expectations Details:\")\n",
    "    for result in validation_result.results:\n",
    "        if not result.success:\n",
    "            print(f\"\\nColumn: {result.expectation_config.kwargs.get('column')}\")\n",
    "            print(f\"Expectation: {result.expectation_config.expectation_type}\")\n",
    "            print(f\"Message: {result.result.get('partial_unexpected_list')}\")\n",
    "\n"
   ]
  }
 ],
 "metadata": {
  "kernelspec": {
   "display_name": "Python 3",
   "language": "python",
   "name": "python3"
  },
  "language_info": {
   "codemirror_mode": {
    "name": "ipython",
    "version": 3
   },
   "file_extension": ".py",
   "mimetype": "text/x-python",
   "name": "python",
   "nbconvert_exporter": "python",
   "pygments_lexer": "ipython3",
   "version": "3.10.12"
  }
 },
 "nbformat": 4,
 "nbformat_minor": 2
}
