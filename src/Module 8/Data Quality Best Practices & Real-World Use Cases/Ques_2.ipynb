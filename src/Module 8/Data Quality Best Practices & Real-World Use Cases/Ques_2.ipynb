{
 "cells": [
  {
   "cell_type": "markdown",
   "metadata": {},
   "source": [
    "### Monitor Data Quality Trends Over Time\n",
    "\n",
    "**Task 1**: Create a Trends Analysis Report\n",
    "\n",
    "**Objective**: Understand long-term data quality trends.\n",
    "\n",
    "**Steps**:\n",
    "1. Use historical data (or simulate data) to analyze how data quality has changed over time.\n",
    "2. Calculate trends for the KPIs defined earlier using statistical measures or visual charts.\n",
    "3. Write a report summarizing your findings, noting any persistent issues or improvements."
   ]
  },
  {
   "cell_type": "code",
   "execution_count": null,
   "metadata": {},
   "outputs": [
    {
     "ename": "SyntaxError",
     "evalue": "closing parenthesis '}' does not match opening parenthesis '(' on line 12 (2348337407.py, line 14)",
     "output_type": "error",
     "traceback": [
      "\u001b[0;36m  Cell \u001b[0;32mIn[1], line 14\u001b[0;36m\u001b[0m\n\u001b[0;31m    }\u001b[0m\n\u001b[0m    ^\u001b[0m\n\u001b[0;31mSyntaxError\u001b[0m\u001b[0;31m:\u001b[0m closing parenthesis '}' does not match opening parenthesis '(' on line 12\n"
     ]
    }
   ],
   "source": [
    "# Write your code from here\n",
    "import pandas as pd\n",
    "import numpy as np\n",
    "import matplotlib.pyplot as plt\n",
    "from scipy import stats\n",
    "\n",
    "np.random.seed(42)\n",
    "dates = pd.date_range(start='2022-01-01', end='2023-12-31', freq='M')\n",
    "data = {\n",
    "    'Date': dates,\n",
    "    'Accuracy_Rate': np.clip(np.cumsum(np.random.normal(0.1, 0.5, len(dates)) + 95, \n",
    "    'Completeness_Rate': np.clip(np.cumsum(np.random.normal(0.15, 0.3, len(dates)) + 92,\n",
    "    'Timeliness_Metric': np.clip(6 - np.cumsum(np.random.normal(0.2, 0.4, len(dates)), 0), 0, 10)\n",
    "}\n",
    "df = pd.DataFrame(data)\n",
    "\n",
    "plt.figure(figsize=(12, 8))\n",
    "\n",
    "plt.subplot(3, 1, 1)\n",
    "plt.plot(df['Date'], df['Accuracy_Rate'], marker='o', color='#1f77b4')\n",
    "plt.axhline(y=97, color='r', linestyle='--')\n",
    "plt.title('Accuracy Rate Trend')\n",
    "plt.ylabel('Percentage (%)')\n",
    "plt.grid(True)\n",
    "\n",
    "plt.subplot(3, 1, 2)\n",
    "plt.plot(df['Date'], df['Completeness_Rate'], marker='o', color='#ff7f0e')\n",
    "plt.axhline(y=96, color='r', linestyle='--')\n",
    "plt.title('Completeness Rate Trend')\n",
    "plt.ylabel('Percentage (%)')\n",
    "plt.grid(True)\n",
    "\n",
    "plt.subplot(3, 1, 3)\n",
    "plt.plot(df['Date'], df['Timeliness_Metric'], marker='o', color='#2ca02c')\n",
    "plt.axhline(y=3, color='r', linestyle='--')\n",
    "plt.title('Timeliness Metric Trend')\n",
    "plt.ylabel('Hours')\n",
    "plt.xlabel('Date')\n",
    "plt.grid(True)\n",
    "\n",
    "plt.tight_layout()\n",
    "plt.show()\n",
    "\n",
    "def analyze_trend(series):\n",
    "    x = np.arange(len(series))\n",
    "    slope, intercept, r_value, p_value, std_err = stats.linregress(x, series)\n",
    "    return {\n",
    "        'slope': slope,\n",
    "        'r_squared': r_value**2,\n",
    "        'p_value': p_value,\n",
    "        'percent_change': (series.iloc[-1] - series.iloc[0])/series.iloc[0]*100\n",
    "    }\n",
    "\n",
    "accuracy_trend = analyze_trend(df['Accuracy_Rate'])\n",
    "completeness_trend = analyze_trend(df['Completeness_Rate'])\n",
    "timeliness_trend = analyze_trend(df['Timeliness_Metric'])\n",
    "\n",
    "print(\"\\n=== TREND ANALYSIS REPORT ===\")\n",
    "print(f\"\\nAccuracy Rate:\")\n",
    "print(f\"- Overall trend: {'Improving' if accuracy_trend['slope'] > 0 else 'Declining'}\")\n",
    "print(f\"- R-squared: {accuracy_trend['r_squared']:.3f} (strength of trend)\")\n",
    "print(f\"- Percentage change: {accuracy_trend['percent_change']:.1f}% over period\")\n",
    "print(f\"- Current status: {'Above' if df['Accuracy_Rate'].iloc[-1] > 97 else 'Below'} target\")\n",
    "\n",
    "print(f\"\\nCompleteness Rate:\")\n",
    "print(f\"- Overall trend: {'Improving' if completeness_trend['slope'] > 0 else 'Declining'}\")\n",
    "print(f\"- R-squared: {completeness_trend['r_squared']:.3f}\")\n",
    "print(f\"- Percentage change: {completeness_trend['percent_change']:.1f}% over period\")\n",
    "print(f\"- Current status: {'Above' if df['Completeness_Rate'].iloc[-1] > 96 else 'Below'} target\")\n",
    "\n",
    "print(f\"\\nTimeliness Metric:\")\n",
    "print(f\"- Overall trend: {'Improving' if timeliness_trend['slope'] < 0 else 'Declining'}\")\n",
    "print(f\"- R-squared: {timeliness_trend['r_squared']:.3f}\")\n",
    "print(f\"- Percentage change: {timeliness_trend['percent_change']:.1f}% over period\")\n",
    "print(f\"- Current status: {'Better' if df['Timeliness_Metric'].iloc[-1] < 3 else 'Worse'} than target\")"
   ]
  },
  {
   "cell_type": "markdown",
   "metadata": {},
   "source": [
    "**Task 2**: Evaluate Continuous Improvement Measures\n",
    "\n",
    "**Objective**: Implement strategic changes based on trend analysis.\n",
    "\n",
    "**Steps**:\n",
    "1. Identify patterns or recurring issues from your trend analysis report.\n",
    "2. Propose three continuous improvement strategies to address these issues.\n",
    "3. Plan how to implement these strategies and measure their effectiveness over the next cycle."
   ]
  },
  {
   "cell_type": "code",
   "execution_count": null,
   "metadata": {},
   "outputs": [],
   "source": [
    "# Write your code from here"
   ]
  }
 ],
 "metadata": {
  "kernelspec": {
   "display_name": "Python 3",
   "language": "python",
   "name": "python3"
  },
  "language_info": {
   "codemirror_mode": {
    "name": "ipython",
    "version": 3
   },
   "file_extension": ".py",
   "mimetype": "text/x-python",
   "name": "python",
   "nbconvert_exporter": "python",
   "pygments_lexer": "ipython3",
   "version": "3.10.12"
  }
 },
 "nbformat": 4,
 "nbformat_minor": 2
}
