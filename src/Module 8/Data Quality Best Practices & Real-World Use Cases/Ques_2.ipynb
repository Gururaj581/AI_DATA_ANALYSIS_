{
 "cells": [
  {
   "cell_type": "markdown",
   "metadata": {},
   "source": [
    "### Monitor Data Quality Trends Over Time\n",
    "\n",
    "**Task 1**: Create a Trends Analysis Report\n",
    "\n",
    "**Objective**: Understand long-term data quality trends.\n",
    "\n",
    "**Steps**:\n",
    "1. Use historical data (or simulate data) to analyze how data quality has changed over time.\n",
    "2. Calculate trends for the KPIs defined earlier using statistical measures or visual charts.\n",
    "3. Write a report summarizing your findings, noting any persistent issues or improvements."
   ]
  },
  {
   "cell_type": "code",
   "execution_count": null,
   "metadata": {},
   "outputs": [],
   "source": [
    "\n",
    "import pandas as pd\n",
    "import numpy as np\n",
    "import matplotlib.pyplot as plt\n",
    "np.random.seed(42)\n",
    "weeks = pd.date_range(start='2025-02-01', periods=10, freq='W')\n",
    "data = {\n",
    "    'Week': weeks,\n",
    "    'Accuracy Rate': np.clip(np.random.normal(0.92, 0.02, size=10), 0.85, 0.95),\n",
    "    'Completeness Rate': np.clip(np.random.normal(0.89, 0.03, size=10), 0.8, 0.95),\n",
    "    'Timeliness Rate': np.clip(np.random.normal(0.75, 0.05, size=10), 0.6, 0.85)\n",
    "}\n",
    "df_trends = pd.DataFrame(data)\n",
    "df_trends.to_csv('kpi_trends.csv', index=False)\n",
    "df_trends.set_index('Week').plot(figsize=(10, 6), marker='o', title='Data Quality KPI Trends Over Time')\n",
    "plt.ylabel('KPI Value')\n",
    "plt.grid(True)\n",
    "plt.tight_layout()\n",
    "plt.savefig('kpi_trend_chart.png')\n",
    "plt.show()"
   ]
  },
  {
   "cell_type": "markdown",
   "metadata": {},
   "source": [
    "**Task 2**: Evaluate Continuous Improvement Measures\n",
    "\n",
    "**Objective**: Implement strategic changes based on trend analysis.\n",
    "\n",
    "**Steps**:\n",
    "1. Identify patterns or recurring issues from your trend analysis report.\n",
    "2. Propose three continuous improvement strategies to address these issues.\n",
    "3. Plan how to implement these strategies and measure their effectiveness over the next cycle."
   ]
  },
  {
   "cell_type": "code",
   "execution_count": null,
   "metadata": {},
   "outputs": [],
   "source": [
    "\n",
    "import pandas as pd\n",
    "import numpy as np\n",
    "import matplotlib.pyplot as plt\n",
    "np.random.seed(42)\n",
    "weeks = pd.date_range(start='2025-02-01', periods=10, freq='W')\n",
    "phase = ['Pre' if i < 5 else 'Post' for i in range(10)]\n",
    "accuracy = np.concatenate([np.random.normal(0.90, 0.02, 5), np.random.normal(0.94, 0.01, 5)])\n",
    "completeness = np.concatenate([np.random.normal(0.85, 0.03, 5), np.random.normal(0.91, 0.02, 5)])\n",
    "timeliness = np.concatenate([np.random.normal(0.70, 0.05, 5), np.random.normal(0.80, 0.03, 5)])\n",
    "df = pd.DataFrame({\n",
    "    'Week': weeks,\n",
    "    'Phase': phase,\n",
    "    'Accuracy Rate': np.clip(accuracy, 0.85, 0.96),\n",
    "    'Completeness Rate': np.clip(completeness, 0.75, 0.95),\n",
    "    'Timeliness Rate': np.clip(timeliness, 0.60, 0.90)\n",
    "})\n",
    "df.to_csv('kpi_improvement_trend.csv', index=False)\n",
    "fig, axes = plt.subplots(3, 1, figsize=(10, 10), sharex=True)\n",
    "kpis = ['Accuracy Rate', 'Completeness Rate', 'Timeliness Rate']\n",
    "for i, kpi in enumerate(kpis):\n",
    "    df.plot(x='Week', y=kpi, ax=axes[i], marker='o', color='tab:blue', label=kpi)\n",
    "    axes[i].axvline(df['Week'][4], color='red', linestyle='--', label='Strategy Applied' if i == 0 else \"\")\n",
    "    axes[i].set_ylabel(kpi)\n",
    "    axes[i].grid(True)\n",
    "plt.suptitle('Data Quality KPI Trends Before and After Strategy Implementation', fontsize=14)\n",
    "plt.tight_layout()\n",
    "plt.subplots_adjust(top=0.92)\n",
    "plt.savefig('kpi_strategy_impact.png')\n",
    "plt.show()\n",
    "summary = df.groupby('Phase')[['Accuracy Rate', 'Completeness Rate', 'Timeliness Rate']].mean().round(3)\n",
    "print(summary)\n"
   ]
  }
 ],
 "metadata": {
  "kernelspec": {
   "display_name": "Python 3",
   "language": "python",
   "name": "python3"
  },
  "language_info": {
   "codemirror_mode": {
    "name": "ipython",
    "version": 3
   },
   "file_extension": ".py",
   "mimetype": "text/x-python",
   "name": "python",
   "nbconvert_exporter": "python",
   "pygments_lexer": "ipython3",
   "version": "3.10.12"
  }
 },
 "nbformat": 4,
 "nbformat_minor": 2
}
