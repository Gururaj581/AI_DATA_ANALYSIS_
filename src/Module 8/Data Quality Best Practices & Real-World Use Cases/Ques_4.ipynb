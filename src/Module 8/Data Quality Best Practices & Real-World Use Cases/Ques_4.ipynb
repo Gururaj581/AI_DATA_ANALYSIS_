{
 "cells": [
  {
   "cell_type": "markdown",
   "metadata": {},
   "source": [
    "### Healthcare – Patient Data Accuracy\n",
    "\n",
    "**Task 1**: Patient Record Accuracy Assessment\n",
    "\n",
    "**Objective**: Achieve high accuracy in patient records.\n",
    "\n",
    "**Steps**:\n",
    "1. Examine a sample patient dataset for common inaccuracies.\n",
    "2. Identify at least three common issues, such as medication errors or misdiagnoses.\n",
    "3. Propose validation measures to ensure data accuracy at the point of entry."
   ]
  },
  {
   "cell_type": "code",
   "execution_count": null,
   "metadata": {},
   "outputs": [],
   "source": [
    "# Write your code from here\n",
    "import pandas as pd\n",
    "import numpy as np\n",
    "\n",
    "data = {\n",
    "    'patient_id': [1, 2, 3, 4],\n",
    "    'age': [25, -1, 200, 45],\n",
    "    'medication': ['Aspirin', 'Paracetamol', '', 'Ibuprofen'],\n",
    "    'diagnosis': ['Hypertension', 'Diabetes', 'Unknown', 'Hypertension']\n",
    "}\n",
    "\n",
    "df = pd.DataFrame(data)\n",
    "\n",
    "issues = {\n",
    "    'invalid_age': df[(df['age'] < 0) | (df['age'] > 120)],\n",
    "    'missing_medication': df[df['medication'].str.strip() == ''],\n",
    "    'ambiguous_diagnosis': df[df['diagnosis'].str.lower().isin(['unknown', 'n/a', ''])]\n",
    "}\n",
    "\n",
    "def validate_entry(entry):\n",
    "    if not (0 <= entry['age'] <= 120):\n",
    "        return False\n",
    "    if entry['medication'].strip() == '':\n",
    "        return False\n",
    "    if entry['diagnosis'].strip().lower() in ['unknown', 'n/a', '']:\n",
    "        return False\n",
    "    return True\n",
    "\n",
    "df['is_valid'] = df.apply(validate_entry, axis=1)\n"
   ]
  },
  {
   "cell_type": "markdown",
   "metadata": {},
   "source": [
    "**Task 2**: Implement Healthcare Data Quality Checks\n",
    "\n",
    "**Objective**: Maintain accurate health records within a healthcare system.\n",
    "\n",
    "**Steps**:\n",
    "1. Develop a validation workflow for patient data.\n",
    "2. Use appropriate software to automate checks for common errors."
   ]
  },
  {
   "cell_type": "code",
   "execution_count": null,
   "metadata": {},
   "outputs": [],
   "source": [
    "# Write your code from here\n"
   ]
  }
 ],
 "metadata": {
  "kernelspec": {
   "display_name": "base",
   "language": "python",
   "name": "python3"
  },
  "language_info": {
   "name": "python",
   "version": "3.12.7"
  }
 },
 "nbformat": 4,
 "nbformat_minor": 2
}
