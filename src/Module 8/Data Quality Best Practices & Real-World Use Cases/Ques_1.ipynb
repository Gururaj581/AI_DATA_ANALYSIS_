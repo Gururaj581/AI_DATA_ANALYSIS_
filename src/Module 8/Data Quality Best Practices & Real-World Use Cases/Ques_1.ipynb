{
 "cells": [
  {
   "cell_type": "markdown",
   "metadata": {},
   "source": [
    "### Define Data Quality KPIs\n",
    "\n",
    "**Task 1**: Identify Relevant KPIs\n",
    "\n",
    "**Objective**: Develop KPIs that align with organizational goals.\n",
    "\n",
    "**Steps**:\n",
    "1. Choose a dataset from a domain of your interest (e.g., sales data, healthcare records, or transaction logs).\n",
    "2. Identify three KPIs that would be crucial for assessing the data quality in your chosen dataset. Consider accuracy, completeness, and timeliness.\n",
    "3. Document why each KPI is important for maintaining high-quality data in your given context."
   ]
  },
  {
   "cell_type": "code",
   "execution_count": null,
   "metadata": {},
   "outputs": [],
   "source": [
    "# Write your code from here\n",
    "\n",
    "import pandas as pd\n",
    "from datetime import datetime, timedelta\n",
    "import random\n",
    "\n",
    "data = {\n",
    "    'patient_id': [f'P{1000+i}' for i in range(10)],\n",
    "    'diagnosis_code': ['A01', 'B20.1', 'C34', None, 'D50.0', 'E11.9', 'F32', 'G40', 'Z99.89', 'INVALID'],\n",
    "    'visit_date': [datetime(2025, 5, 1) - timedelta(days=i) for i in range(10)],\n",
    "    'entry_date': [datetime(2025, 5, 1) - timedelta(days=i) + timedelta(hours=random.randint(1, 48)) for i in range(10)],\n",
    "    'physician_id': [f'DR{i}' if i != 3 else None for i in range(10)]\n",
    "}\n",
    "\n",
    "df = pd.DataFrame(data)\n",
    "df.to_csv('healthcare_records.csv', index=False)\n",
    "{\n",
    " 'Accuracy Rate': 0.9,\n",
    " 'Completeness Rate': 0.9,\n",
    " 'Timeliness Rate': 0.7\n",
    "}\n"
   ]
  },
  {
   "cell_type": "markdown",
   "metadata": {},
   "source": [
    "**Task 2**: Develop a KPI Dashboard\n",
    "\n",
    "**Objective**: Visualize your KPIs for better monitoring.\n",
    "\n",
    "**Steps**:\n",
    "1. Use a tool like Excel or a BI tool (e.g., Tableau, Power BI) to create a simple dashboard.\n",
    "2. Input sample data and visualize your chosen KPIs, showing how they would be monitored.\n",
    "3. Share your dashboard with peers and gather feedback on KPI relevance and clarity."
   ]
  },
  {
   "cell_type": "code",
   "execution_count": null,
   "metadata": {},
   "outputs": [],
   "source": [
    "\n",
    "import pandas as pd\n",
    "import plotly.graph_objects as go\n",
    "from plotly.subplots import make_subplots\n",
    "data = {\n",
    "    'Date': pd.date_range(start='2023-01-01', periods=12, freq='M'),\n",
    "    'Accuracy_Rate': [98.2, 98.5, 98.1, 98.9, 99.2, 99.0, 98.7, 99.1, 99.3, 99.0, 98.8, 99.2],\n",
    "    'Completeness_Rate': [95.0, 96.2, 97.1, 97.8, 98.0, 98.5, 98.2, 98.7, 99.0, 98.8, 98.5, 99.1],\n",
    "    'Timeliness_Metric': [4.5, 4.2, 3.9, 3.7, 3.5, 3.2, 3.0, 2.8, 2.5, 2.3, 2.0, 1.8]\n",
    "}\n",
    "df = pd.DataFrame(data)\n",
    "fig = make_subplots(\n",
    "    rows=2, cols=2,\n",
    "    specs=[[{\"type\": \"indicator\"}, {\"type\": \"indicator\"}],\n",
    "           [{\"colspan\": 2}, None]],\n",
    "    subplot_titles=(\"Current Month KPIs\", \"Trend Analysis\")\n",
    ")\n",
    "fig.add_trace(go.Indicator(\n",
    "    mode=\"gauge+number\",\n",
    "    value=df['Accuracy_Rate'].iloc[-1],\n",
    "    title={'text': \"Accuracy Rate (%)\"},\n",
    "    domain={'x': [0, 0.5], 'y': [0.5, 1]},\n",
    "    gauge={'axis': {'range': [90, 100]},\n",
    "           'steps': [{'range': [90, 95], 'color': \"lightgray\"},\n",
    "                    {'range': [95, 98], 'color': \"gray\"},\n",
    "                    {'range': [98, 100], 'color': \"green\"}]}\n",
    "), row=1, col=1)\n",
    "fig.add_trace(go.Indicator(\n",
    "    mode=\"gauge+number\",\n",
    "    value=df['Completeness_Rate'].iloc[-1],\n",
    "    title={'text': \"Completeness Rate (%)\"},\n",
    "    domain={'x': [0.5, 1], 'y': [0.5, 1]},\n",
    "    gauge={'axis': {'range': [90, 100]},\n",
    "           'steps': [{'range': [90, 95], 'color': \"lightgray\"},\n",
    "                    {'range': [95, 98], 'color': \"gray\"},\n",
    "                    {'range': [98, 100], 'color': \"green\"}]}\n",
    "), row=1, col=2)\n",
    "fig.add_trace(go.Scatter(\n",
    "    x=df['Date'],\n",
    "    y=df['Timeliness_Metric'],\n",
    "    name='Timeliness (hours)',\n",
    "    line=dict(color='royalblue', width=4)\n",
    "), row=2, col=1)\n",
    "fig.update_layout(\n",
    "    title_text=\"Data Quality KPI Dashboard\",\n",
    "    height=600,\n",
    "    showlegend=True\n",
    ")\n",
    "fig.show()"
   ]
  }
 ],
 "metadata": {
  "kernelspec": {
   "display_name": "Python 3",
   "language": "python",
   "name": "python3"
  },
  "language_info": {
   "codemirror_mode": {
    "name": "ipython",
    "version": 3
   },
   "file_extension": ".py",
   "mimetype": "text/x-python",
   "name": "python",
   "nbconvert_exporter": "python",
   "pygments_lexer": "ipython3",
   "version": "3.10.12"
  }
 },
 "nbformat": 4,
 "nbformat_minor": 2
}
